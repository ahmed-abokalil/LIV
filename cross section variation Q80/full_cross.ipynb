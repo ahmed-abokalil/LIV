{
 "cells": [
  {
   "cell_type": "code",
   "execution_count": 1,
   "id": "643f4db4-affb-4764-a287-ee3606bbcec5",
   "metadata": {
    "scrolled": true
   },
   "outputs": [
    {
     "name": "stdout",
     "output_type": "stream",
     "text": [
      "LHAPDF 6.5.4 loading /home/ahmed/miniconda3/share/LHAPDF/NNPDF31_nnlo_as_0118/NNPDF31_nnlo_as_0118_0000.dat\n",
      "NNPDF31_nnlo_as_0118 PDF set, member #0, version 1; LHAPDF ID = 303600\n"
     ]
    }
   ],
   "source": [
    "import matplotlib.pyplot as plt\n",
    "import numpy as np\n",
    "import scipy as sp\n",
    "import torch as tn\n",
    "from scipy.integrate import quad\n",
    "import time\n",
    "\n",
    "# Import files\n",
    "from constants import *\n",
    "from pdfpy import *\n",
    "from functions import  d_sigma\n",
    "from rotation import *"
   ]
  },
  {
   "cell_type": "code",
   "execution_count": 2,
   "id": "7df05dc8-1519-4feb-bedb-abca58adb52c",
   "metadata": {},
   "outputs": [
    {
     "name": "stdout",
     "output_type": "stream",
     "text": [
      "[(2, 0.2013, -0.0449, 0.4551)]\n"
     ]
    }
   ],
   "source": [
    "# Quarks\n",
    "e = 0.302\n",
    "quarks = [\n",
    "    (2, 2/3*e, 'u', 1/2),\n",
    "     #(1, -1/3*e, 'd', -1/2),\n",
    "    # (3, -1/3*e, 's', -1/2),\n",
    "    # (4, 2/3*e, 'c', 1/2),\n",
    "    # (5, -1/3*e, 'b', -1/2),\n",
    "    #  (6, 2/3*e, 't', 1/2),\n",
    "]\n",
    "\n",
    "# List of quark properties and couplings\n",
    "quark_couplings = []\n",
    "\n",
    "for flavor, e_f, name, I3 in quarks:\n",
    "    g_fR = -e_f * sin2th_w\n",
    "    g_fL = I3 - e_f * sin2th_w\n",
    "    \n",
    "    # Rounding to 4 decimal places\n",
    "    e_f = round(e_f, 4)\n",
    "    g_fR = round(g_fR, 4)\n",
    "    g_fL = round(g_fL, 4)\n",
    "    \n",
    "    quark_couplings.append((flavor, e_f, g_fR, g_fL))\n",
    "\n",
    "print(quark_couplings)"
   ]
  },
  {
   "cell_type": "code",
   "execution_count": 3,
   "id": "4a72e9a2-9792-4968-b511-bfbb75301750",
   "metadata": {},
   "outputs": [],
   "source": [
    "#Don't foregt the metric convenction (+, -, -, -)\n",
    "\n",
    "CL = tn.tensor([\n",
    "    [0, 0, 0, 0],\n",
    "    [0, 0.01, 0, 0],\n",
    "    [0, 0, -0.01, 0],\n",
    "    [0,0, 0, 0]\n",
    "], dtype=tn.float32)\n",
    "\n",
    "CR = tn.tensor([\n",
    "    [0, 0, 0, 0],\n",
    "    [0, 0, 0, 0],\n",
    "    [0, 0, 0, 0],\n",
    "    [0, 0, 0, 0]\n",
    "], dtype=tn.float32)\n",
    "\n",
    "C0 = tn.tensor([\n",
    "    [0, 0, 0, 0],\n",
    "    [0, 0, 0, 0],\n",
    "    [0, 0, 0, 0],\n",
    "    [0, 0, 0, 0]\n",
    "], dtype=tn.float32)\n"
   ]
  },
  {
   "cell_type": "code",
   "execution_count": 4,
   "id": "1183f1ad-ca66-4d0d-a5a6-e485c08e0ccf",
   "metadata": {},
   "outputs": [],
   "source": [
    "# import time\n",
    "\n",
    "# # Get the current Unix time\n",
    "# current_unix_time = int(time.time())\n",
    "\n",
    "# print(current_unix_time)\n",
    "# print(start_time)"
   ]
  },
  {
   "cell_type": "code",
   "execution_count": 5,
   "id": "e5a39447-3375-40d0-a804-25b4672be761",
   "metadata": {},
   "outputs": [],
   "source": [
    "\n",
    "# p1 = 1 / np.sqrt(2) * tn.tensor([1,1, 1,1], dtype=tn.float32)\n",
    "\n",
    "# p2 = 1 / np.sqrt(2) * tn.tensor([1,-1, -1,-1], dtype=tn.float32)\n",
    "\n",
    "# # Initialize the variables\n",
    "\n",
    "# # start_time = datetime.now(timezone.utc).replace(microsecond=0, second=0, minute= 0)  # Start from the beginning of the current hour\n",
    "# start_time = int(time.time())\n",
    "# end_time = start_time + int(timedelta(days=2).total_seconds())\n",
    "# step = timedelta(hours=1)  # Step of 12 hours\n",
    "\n",
    "# # Lists to store the times and contr matrix elements\n",
    "# times = []\n",
    "# contr_elementsL = []\n",
    "# contr_elementsR = []\n",
    "\n",
    "# current_time = start_time\n",
    "# while current_time < end_time:\n",
    "#     # Convert current_time to a timestamp\n",
    "#     current_datetime = datetime.fromtimestamp(current_time)\n",
    "#     time_utc = current_datetime.timestamp()\n",
    "    \n",
    "#     # Calculate omega_t\n",
    "#     omega_t_sid = omega_utc * time_utc + 3.2830  # Example value, adjust as needed\n",
    "\n",
    "#     # Construct the complete rotation matrix from SCF to CMS\n",
    "#     R_matrix = R_y(latitude) @ R_x(azimuth) @ R_z @ R_Z(omega_t_sid)\n",
    "    \n",
    "#     # Compute contrL and contrR\n",
    "#     contrL = np.matmul(CL, R_matrix)\n",
    "#     contrR = np.matmul(CR, R_matrix)\n",
    "\n",
    "#     # Convert contrL and contrR to PyTorch tensors\n",
    "#     contrL_tensor = tn.tensor(contrL, dtype=tn.float32)\n",
    "#     contrR_tensor = tn.tensor(contrR, dtype=tn.float32)\n",
    "    \n",
    "#     # Compute results\n",
    "#     resultL = tn.dot(p1, tn.mv(contrL_tensor, p2))\n",
    "#     resultR = tn.dot(p1, tn.mv(contrR_tensor, p2))\n",
    "\n",
    "#     # Record the times and contr matrix elements\n",
    "#     times.append(current_time)\n",
    "#     contr_elementsL.append(contrL_tensor)\n",
    "#     contr_elementsR.append(contrR_tensor)\n",
    "\n",
    "#     # Move to the next time step\n",
    "#     current_time += int(step.total_seconds())\n",
    "# # Convert the list of contr elements to a NumPy array for easier indexing\n",
    "# # contr_elementsL = np.array(contr_elementsL)\n",
    "# # contr_elementsR = np.array(contr_elementsR)\n"
   ]
  },
  {
   "cell_type": "code",
   "execution_count": 6,
   "id": "4c350652-827f-426a-b104-8c9939528a27",
   "metadata": {},
   "outputs": [
    {
     "name": "stderr",
     "output_type": "stream",
     "text": [
      "/tmp/ipykernel_76931/2583148079.py:41: UserWarning: To copy construct from a tensor, it is recommended to use sourceTensor.clone().detach() or sourceTensor.clone().detach().requires_grad_(True), rather than torch.tensor(sourceTensor).\n",
      "  contrL_tensor = tn.tensor(contrL, dtype=tn.float32).clone().detach()\n",
      "/tmp/ipykernel_76931/2583148079.py:42: UserWarning: To copy construct from a tensor, it is recommended to use sourceTensor.clone().detach() or sourceTensor.clone().detach().requires_grad_(True), rather than torch.tensor(sourceTensor).\n",
      "  contrR_tensor = tn.tensor(contrR, dtype=tn.float32).clone().detach()\n"
     ]
    }
   ],
   "source": [
    "# Define the constant tensors once\n",
    "sqrt_half = 1 / np.sqrt(2)\n",
    "p1 = sqrt_half * tn.tensor([1, 1, 1, 1], dtype=tn.float32)\n",
    "p2 = sqrt_half * tn.tensor([1, -1, -1, -1], dtype=tn.float32)\n",
    "\n",
    "# Precompute total number of steps\n",
    "start_time = int(time.time())\n",
    "end_time = start_time + int(timedelta(days=2).total_seconds())\n",
    "step_seconds = int(timedelta(hours=1).total_seconds())\n",
    "num_steps = (end_time - start_time) // step_seconds\n",
    "\n",
    "# Lists to store the times and contr matrix elements\n",
    "times = []\n",
    "contr_elementsL = []\n",
    "contr_elementsR = []\n",
    "\n",
    "\n",
    "# Precompute parts of the rotation matrices that do not depend on omega_t_sid\n",
    "R_y_lat = R_y(latitude)\n",
    "R_x_azi = R_x(azimuth)\n",
    "\n",
    "# Main loop\n",
    "current_time = start_time\n",
    "for _ in range(num_steps):\n",
    "    # Convert current_time to a timestamp\n",
    "    current_datetime = datetime.fromtimestamp(current_time)\n",
    "    time_utc = current_datetime.timestamp()\n",
    "\n",
    "    # Calculate omega_t\n",
    "    omega_t_sid = omega_utc * time_utc + 3.2830  # Example value, adjust as needed\n",
    "\n",
    "    # Construct the complete rotation matrix from SCF to CMS\n",
    "    R_Z_omega = R_Z(omega_t_sid)\n",
    "    R_matrix = R_y_lat @ R_x_azi @ R_Z_omega\n",
    "\n",
    "    # Compute contrL and contrR using matrix multiplication\n",
    "    contrL = np.matmul(CL, R_matrix)\n",
    "    contrR = np.matmul(CR, R_matrix)\n",
    "\n",
    "    # Convert contrL and contrR to PyTorch tensors (using in-place operations)\n",
    "    contrL_tensor = tn.tensor(contrL, dtype=tn.float32).clone().detach()\n",
    "    contrR_tensor = tn.tensor(contrR, dtype=tn.float32).clone().detach()\n",
    "\n",
    "    # Compute results (using in-place operations)\n",
    "    resultL = tn.dot(p1, tn.mv(contrL_tensor, p2))\n",
    "    resultR = tn.dot(p1, tn.mv(contrR_tensor, p2))\n",
    "\n",
    "    # Record the times and contr matrix elements\n",
    "    times.append(current_time)\n",
    "    contr_elementsL.append(contrL_tensor)\n",
    "    contr_elementsR.append(contrR_tensor)\n",
    "\n",
    "    # Move to the next time step\n",
    "    current_time += step_seconds\n",
    "\n",
    "# Convert the list of contr elements to a NumPy array for easier indexing if needed\n",
    "# contr_elementsL = np.array(contr_elementsL)\n",
    "# contr_elementsR = np.array(contr_elementsR)\n"
   ]
  },
  {
   "cell_type": "code",
   "execution_count": 7,
   "id": "3bc0c6c2-9d34-4d36-b1a0-c4d537bbb51c",
   "metadata": {},
   "outputs": [],
   "source": [
    "# # Integration and plotting\n",
    "# Q_val = np.linspace(60, 70, 50)\n",
    "# a = 60 # Start of the Q range\n",
    "# b = 70  # End of the Q range\n",
    "# nbins = 1  # Number of bins\n",
    "# # Example momenta for protons\n",
    "\n",
    "\n",
    "# Q_bins = np.linspace(a, b, nbins + 1)\n",
    "\n",
    "# # Integrate d_sigma over each bin\n",
    "# # Integrate d_sigma over each bin\n",
    "# results = [d_sigma(Q**2, Cc, Ch, p1, p2, 1, quark_couplings) \n",
    "#            for Cc, Ch, Q in zip(contr_elementsL, contr_elementsR, Q_val)]\n",
    "\n",
    "# dsigma, dsigmaL, dsigmaR = zip(*results)\n",
    "\n",
    "\n",
    "\n",
    "# def integrand(Q, CL, CR, p1, p2, n):\n",
    "#     return d_sigma(Q**2,CL, CR, p1, p2, 1, quark_couplings)[0]\n",
    "    \n",
    "# sme_values = []\n",
    "    \n",
    "# for i in range(len(Q_bins) - 1):\n",
    "#     Q_start = Q_bins[i]\n",
    "#     Q_end = Q_bins[i + 1]\n",
    "#     integral_sm, _ = quad(integrand, Q_start, Q_end, args=(C0, C0, p1, p2, 1))\n",
    "#     for elemL, elemR in zip(contr_elementsL, contr_elementsR):\n",
    "#             integral_sme, _ = quad(integrand, Q_start, Q_end, args=(elemR, elemL, p1, p2, 1))\n",
    "#             sme_values.append(integral_sme)\n"
   ]
  },
  {
   "cell_type": "code",
   "execution_count": 8,
   "id": "3ba2bea1-f04a-4389-95b0-b01c7143abde",
   "metadata": {},
   "outputs": [],
   "source": [
    "\n",
    "# from multiprocessing import Pool\n",
    "\n",
    "# # Define constants\n",
    "# Q_val = np.linspace(60, 70, 50)\n",
    "# a = 60  # Start of the Q range\n",
    "# b = 70  # End of the Q range\n",
    "# nbins = 1  # Number of bins\n",
    "\n",
    "# # Example momenta for protons\n",
    "# Q_bins = np.linspace(a, b, nbins + 1)\n",
    "\n",
    "# # Precompute results for d_sigma\n",
    "# results = [d_sigma(Q**2, Cc, Ch, p1, p2, 1, quark_couplings)\n",
    "#            for Cc, Ch, Q in zip(contr_elementsL, contr_elementsR, Q_val)]\n",
    "# dsigma, dsigmaL, dsigmaR = zip(*results)\n",
    "\n",
    "# # Define the integrand function\n",
    "# def integrand(Q, CL, CR, p1, p2, n, quark_couplings):\n",
    "#     return d_sigma(Q**2, CL, CR, p1, p2, n, quark_couplings)[0]\n",
    "\n",
    "# # Perform the SME integration in parallel\n",
    "# def parallel_integral(args):\n",
    "#     Q_start, Q_end, CL, CR, p1, p2, n, quark_couplings = args\n",
    "#     integral_sme, _ = quad(integrand, Q_start, Q_end, args=(CL, CR, p1, p2, n, quark_couplings))\n",
    "#     return integral_sme\n",
    "\n",
    "# # Prepare arguments for parallel processing\n",
    "# arguments = [(Q_bins[0], Q_bins[1], elemL, elemR, p1, p2, 1, quark_couplings)\n",
    "#              for elemL, elemR in zip(contr_elementsL, contr_elementsR)]\n",
    "\n",
    "# # Use a Pool to perform parallel integration\n",
    "# with Pool() as pool:\n",
    "#     sme_values = pool.map(parallel_integral, arguments)\n",
    "\n",
    "# # Perform the Standard Model integration once\n",
    "# Q_start = Q_bins[0]\n",
    "# Q_end = Q_bins[1]\n",
    "# integral_sm, _ = quad(integrand, Q_start, Q_end, args=(C0, C0, p1, p2, 1, quark_couplings))\n",
    "\n",
    "# # integral_sm now holds the result for the Standard Model integration\n"
   ]
  },
  {
   "cell_type": "code",
   "execution_count": 20,
   "id": "44669117-8fc3-4ab7-ae9f-b25c58479914",
   "metadata": {},
   "outputs": [],
   "source": [
    "resultssm = [d_sigma(80**2, C0, C0, p1, p2, 1, quark_couplings)]\n",
    "dsigmasm, dsigmaLsm, dsigmaRsm = zip(*resultssm)\n",
    "\n",
    "resultssme = [d_sigma(80**2, Cc, Ch, p1, p2, 1, quark_couplings)\n",
    "           for Cc, Ch in zip(contr_elementsL, contr_elementsR)]\n",
    "dsigmasme, dsigmaLsme, dsigmaRsme = zip(*resultssme)\n"
   ]
  },
  {
   "cell_type": "code",
   "execution_count": 22,
   "id": "0ab45b72-d84c-442f-918c-2246056b5188",
   "metadata": {},
   "outputs": [
    {
     "data": {
      "image/png": "[encoded data removed]",
      "text/plain": [
       "<Figure size 1200x600 with 1 Axes>"
      ]
     },
     "metadata": {},
     "output_type": "display_data"
    }
   ],
   "source": [
    "dratio = [t/dsigmasm[0] for t in dsigmasme]\n",
    "\n",
    "plt.figure(figsize=(12, 6))\n",
    "\n",
    "# Create the step plot\n",
    "plt.step(times,  dratio, where='post', color='r', linestyle='--')\n",
    "# plt.axhline(y=1, color='b', linestyle='-', label='y = 1')\n",
    "# plt.plot(times, dsigma)\n",
    "plt.xlabel('Time')\n",
    "# plt.yscale('log')\n",
    "plt.ylabel('$ratio$')\n",
    "plt.grid('true')\n",
    "# plt.title('differeintal cross section at Q=60 GeV')\n",
    "# plt.savefig('intrsec.png')\n",
    "plt.show()"
   ]
  },
  {
   "cell_type": "code",
   "execution_count": 28,
   "id": "540a93ba-deff-459f-af28-58213b80608e",
   "metadata": {},
   "outputs": [
    {
     "name": "stdout",
     "output_type": "stream",
     "text": [
      "(229772822736.77695, 229772822755.29813, 229772822758.36948, 229772822765.85605, 229772822776.79825, 229772822780.17746, 229772822775.42596, 229772822764.5797, 229772822758.01257, 229772822755.12833, 229772822736.5315, 229772822728.11374, 229772822720.23123, 229772822716.26373, 229772822712.61594, 229772822708.24103, 229772822707.44696, 229772822707.3272, 229772822707.5397, 229772822708.33023, 229772822714.42725, 229772822716.52078, 229772822720.8408, 229772822732.493, 229772822737.18832, 229772822755.3882, 229772822758.50208, 229772822766.94305, 229772822776.84848, 229772822780.12674, 229772822774.663, 229772822764.35052, 229772822757.7705, 229772822754.9558, 229772822736.26947, 229772822726.71164, 229772822720.14752, 229772822716.26245, 229772822712.5724, 229772822708.2019, 229772822707.40604, 229772822707.3273, 229772822707.5776, 229772822708.97446, 229772822714.52512, 229772822716.72195, 229772822722.62537, 229772822734.0704)\n"
     ]
    }
   ],
   "source": [
    "print(dsigmasme)"
   ]
  },
  {
   "cell_type": "code",
   "execution_count": null,
   "id": "4f5e80e2-783b-42cb-a63f-9d854755f01d",
   "metadata": {},
   "outputs": [],
   "source": [
    "Q2 = np.linspace(17.5**2, 90**2, 100)\n",
    "#human_readable_times = [datetime.fromtimestamp(ts) for ts in unix_times]  # Convert to datetime objects\n",
    "ratio = [t/integral_sm for t in sme_values]\n",
    "filtered = [value for index, value in enumerate(ratio) if index != 11]\n",
    "filtimes = [value for index, value in enumerate(times) if index != 11]\n",
    "plt.figure(figsize=(12, 6))\n",
    "\n",
    "# Create the step plot\n",
    "plt.step(filtimes,  [t-1 for t in filtered], where='post', color='r', linestyle='--')\n",
    "plt.axhline(y=0, color='b', linestyle='-', label='y = 1')\n",
    "# plt.plot(times, dsigma)\n",
    "plt.xlabel('Time')\n",
    "# plt.yscale('log')\n",
    "plt.ylabel('$ratio$')\n",
    "plt.grid('true')\n",
    "# plt.title('differeintal cross section at Q=60 GeV')\n",
    "# plt.savefig('intrsec.png')\n",
    "plt.show()"
   ]
  },
  {
   "cell_type": "code",
   "execution_count": null,
   "id": "cd381e2c-31da-45dd-a4b7-ba17d8ca5d2e",
   "metadata": {},
   "outputs": [],
   "source": [
    "print(np.delete(times, 24))"
   ]
  },
  {
   "cell_type": "code",
   "execution_count": null,
   "id": "5a1f79ff-c315-48fe-9c2f-d8b7634c6cc1",
   "metadata": {},
   "outputs": [],
   "source": [
    "print([t/integral_sm for t in sme_values])\n",
    "print([value for index, value in enumerate(ratio) if index != 2])"
   ]
  },
  {
   "cell_type": "code",
   "execution_count": null,
   "id": "97da77df-f02a-4e9e-9cbc-6544d082bb7a",
   "metadata": {},
   "outputs": [],
   "source": [
    "# import torch\n",
    "# import numpy as np\n",
    "\n",
    "# # Define the covariant tensor C_{mu nu}\n",
    "# CL = torch.tensor([\n",
    "#     [0, 0, 0, 0],\n",
    "#     [0, 0.01, 0, 0],\n",
    "#     [0, 0, -0.01, 0],\n",
    "#     [0, 0, 0, 00]\n",
    "# ], dtype=torch.float32)\n",
    "\n",
    "# # Define the metric tensors g^{mu alpha} and g^{nu beta}\n",
    "# # For example, using Minkowski metric with signature (+, -, -, -)\n",
    "# g = torch.tensor([\n",
    "#     [1, 0, 0, 0],\n",
    "#     [0, -1, 0, 0],\n",
    "#     [0, 0, -1, 0],\n",
    "#     [0, 0, 0, -1]\n",
    "# ], dtype=torch.float32)\n",
    "\n",
    "# # Raise indices of the covariant tensor CL using the metric tensors\n",
    "# # First, apply the first metric tensor to raise the first index\n",
    "# temp = torch.matmul(g, CL)  # g^{mu alpha} * C_{alpha nu}\n",
    "\n",
    "# # Then apply the second metric tensor to raise the second index\n",
    "# raised_tensor = torch.matmul(temp, g)  # g^{nu beta} * temp_{alpha beta}\n",
    "\n",
    "# print(raised_tensor)\n"
   ]
  },
  {
   "cell_type": "code",
   "execution_count": null,
   "id": "d4325fae-574c-4dc0-be35-1c57b498d660",
   "metadata": {},
   "outputs": [],
   "source": [
    "print(results)"
   ]
  },
  {
   "cell_type": "code",
   "execution_count": null,
   "id": "a71864ac-7c50-4dfb-b481-586f0cf332ba",
   "metadata": {},
   "outputs": [],
   "source": []
  }
 ],
 "metadata": {
  "kernelspec": {
   "display_name": "Python 3 (ipykernel)",
   "language": "python",
   "name": "python3"
  },
  "language_info": {
   "codemirror_mode": {
    "name": "ipython",
    "version": 3
   },
   "file_extension": ".py",
   "mimetype": "text/x-python",
   "name": "python",
   "nbconvert_exporter": "python",
   "pygments_lexer": "ipython3",
   "version": "3.9.19"
  }
 },
 "nbformat": 4,
 "nbformat_minor": 5
}
