{
 "cells": [
  {
   "cell_type": "code",
   "execution_count": 3,
   "id": "88ec81ab-034f-45fd-931b-b7614d11e83e",
   "metadata": {
    "editable": true,
    "slideshow": {
     "slide_type": ""
    },
    "tags": []
   },
   "outputs": [
    {
     "name": "stdout",
     "output_type": "stream",
     "text": [
      "LHAPDF 6.5.4 loading /home/ahmed/miniconda3/envs/env1/share/LHAPDF/NNPDF31_nnlo_as_0118/NNPDF31_nnlo_as_0118_0000.dat\n",
      "NNPDF31_nnlo_as_0118 PDF set, member #0, version 1; LHAPDF ID = 303600\n"
     ]
    },
    {
     "name": "stderr",
     "output_type": "stream",
     "text": [
      "/tmp/ipykernel_48292/3729189864.py:31: IntegrationWarning: The maximum number of subdivisions (50) has been achieved.\n",
      "  If increasing the limit yields no improvement it is advised to analyze \n",
      "  the integrand in order to determine the difficulties.  If the position of a \n",
      "  local difficulty can be determined (singularity, discontinuity) one will \n",
      "  probably gain from splitting up the interval and calling the integrator \n",
      "  on the subranges.  Perhaps a special-purpose integrator should be used.\n",
      "  result, error = quad(f_s, tau, 1, args=(tau, flavor, Q2))\n",
      "/tmp/ipykernel_48292/3729189864.py:70: IntegrationWarning: The maximum number of subdivisions (50) has been achieved.\n",
      "  If increasing the limit yields no improvement it is advised to analyze \n",
      "  the integrand in order to determine the difficulties.  If the position of a \n",
      "  local difficulty can be determined (singularity, discontinuity) one will \n",
      "  probably gain from splitting up the interval and calling the integrator \n",
      "  on the subranges.  Perhaps a special-purpose integrator should be used.\n",
      "  result1, error1 = quad(d_sigma_dQ2, Q2_min, peak_min, args=(quark_couplings))\n",
      "/tmp/ipykernel_48292/3729189864.py:31: IntegrationWarning: The occurrence of roundoff error is detected, which prevents \n",
      "  the requested tolerance from being achieved.  The error may be \n",
      "  underestimated.\n",
      "  result, error = quad(f_s, tau, 1, args=(tau, flavor, Q2))\n",
      "/tmp/ipykernel_48292/3729189864.py:71: IntegrationWarning: The occurrence of roundoff error is detected, which prevents \n",
      "  the requested tolerance from being achieved.  The error may be \n",
      "  underestimated.\n",
      "  result2, error2 = quad(d_sigma_dQ2, peak_max, Q2_max, args=(quark_couplings))\n"
     ]
    },
    {
     "name": "stdout",
     "output_type": "stream",
     "text": [
      "Sigma value: 1854.0805931024045pb, with error estimate 0.021223697297695708\n"
     ]
    },
    {
     "name": "stderr",
     "output_type": "stream",
     "text": [
      "/tmp/ipykernel_48292/3729189864.py:74: IntegrationWarning: The maximum number of subdivisions (50) has been achieved.\n",
      "  If increasing the limit yields no improvement it is advised to analyze \n",
      "  the integrand in order to determine the difficulties.  If the position of a \n",
      "  local difficulty can be determined (singularity, discontinuity) one will \n",
      "  probably gain from splitting up the interval and calling the integrator \n",
      "  on the subranges.  Perhaps a special-purpose integrator should be used.\n",
      "  result_peak, error_peak = quad(d_sigma_dQ2, peak_min, peak_max, args=(quark_couplings), epsabs=1e-12, epsrel=1e-12)\n"
     ]
    }
   ],
   "source": [
    "import numpy as np\n",
    "from scipy.integrate import quad \n",
    "import lhapdf\n",
    "\n",
    "# Load the PDF set\n",
    "pdf = lhapdf.mkPDF(\"NNPDF31_nnlo_as_0118\", 0)\n",
    "\n",
    "# Constants\n",
    "m_Z = 91.1876 \n",
    "Gamma_Z = 2.4952  \n",
    "sin2th_w = 0.23126  # sin^2(theta_W)\n",
    "alpha = 1 / 137  \n",
    "Nc = 3  \n",
    "s = (13e3) ** 2  \n",
    "\n",
    "quark_couplings = [\n",
    "     (1, -0.1007, 0.0224, -0.4776), # down\n",
    "    (2, 0.2013, -0.0449, 0.4551), # up\n",
    "     (3, -0.1007, 0.0224, -0.4776), # strange\n",
    "     (4, 0.2013, -0.0449, 0.4551), # charm\n",
    "]  \n",
    "\n",
    "# Define the function to be integrated\n",
    "def f_s(x, tau, flavor, Q2):\n",
    "    tau_x = tau / x\n",
    "    term1 = (1 / x) * pdf.xfxQ2(flavor, x, Q2) * pdf.xfxQ2(-flavor, tau_x, Q2)\n",
    "    term2 = pdf.xfxQ2(flavor, tau_x, Q2) * (1 / x) * pdf.xfxQ2(-flavor, x, Q2)\n",
    "    return term1 + term2\n",
    "\n",
    "def integrate_f_s(tau, flavor, Q2):\n",
    "    result, error = quad(f_s, tau, 1, args=(tau, flavor, Q2))\n",
    "    return result\n",
    "\n",
    "# Define the terms for the summation\n",
    "def term_1(Q2, e_f):\n",
    "    return e_f**2 / (2 * Q2**2)\n",
    "    \n",
    "def term_2(Q2, e_f, g):\n",
    "    return (((1 - (m_Z**2 / Q2)) / ((Q2 - m_Z**2)**2 + m_Z**2 * Gamma_Z**2)) *\n",
    "            (1 - 4 * sin2th_w) / (4 * sin2th_w * (1 - sin2th_w)) * e_f * g)\n",
    "            \n",
    "def term_3(Q2, e_f, g):\n",
    "    return (1 / ((Q2 - m_Z**2)**2 + m_Z**2 * Gamma_Z**2) * \n",
    "            (1 + (1 - 4 * sin2th_w)**2) / (32 * sin2th_w**2 * (1 - sin2th_w)**2)) * g**2\n",
    "\n",
    "def summation_terms(Q2, e_f, g):\n",
    "    return term_1(Q2, e_f) + term_2(Q2, e_f, g) + term_3(Q2, e_f, g)\n",
    "\n",
    "# Compute the differential cross-section\n",
    "def d_sigma_dQ2(Q2, quark_couplings):\n",
    "    tau = Q2 / s\n",
    "    d_sigma = 0\n",
    "\n",
    "    for flavor, e_f, g_fR, g_fL in quark_couplings:\n",
    "        integral = integrate_f_s(tau, flavor, Q2)\n",
    "        \n",
    "        sum_terms_L = summation_terms(Q2, e_f, g_fL)\n",
    "        sum_terms_R = summation_terms(Q2, e_f, g_fR)\n",
    "        \n",
    "        d_sigma += 4 * np.pi * alpha**2 / (3 * Nc) * (sum_terms_L + sum_terms_R) * integral\n",
    "\n",
    "    result = 0.38 * 1e9 * d_sigma  # Conversion from GeV^-2 to Pb\n",
    "    return result\n",
    "\n",
    "# Integrate d_sigma_dQ2 with special handling for the peak region\n",
    "def integrate_d_sigma(quark_couplings, Q2_min=50**2, Q2_max=13000**2):\n",
    "    peak_min, peak_max = 80**2, 100**2\n",
    "    \n",
    "    # Integrate the region excluding the peak\n",
    "    result1, error1 = quad(d_sigma_dQ2, Q2_min, peak_min, args=(quark_couplings))\n",
    "    result2, error2 = quad(d_sigma_dQ2, peak_max, Q2_max, args=(quark_couplings))\n",
    "    \n",
    "    # Integrate the peak region with higher precision\n",
    "    result_peak, error_peak = quad(d_sigma_dQ2, peak_min, peak_max, args=(quark_couplings), epsabs=1e-12, epsrel=1e-12)\n",
    "    \n",
    "    total_result = result1 + result_peak + result2\n",
    "    total_error = error1 + error_peak + error2\n",
    "    \n",
    "    return total_result, total_error\n",
    "\n",
    "# Calculate the integrated cross-section\n",
    "integrated_d_sigma_value, integrated_d_sigma_error = integrate_d_sigma(quark_couplings)\n",
    "print(f\"Sigma value: {integrated_d_sigma_value}pb, with error estimate {integrated_d_sigma_error}\")"
   ]
  },
  {
   "cell_type": "code",
   "execution_count": null,
   "id": "ff55b58d-25a2-417d-82ad-69c057b8cad1",
   "metadata": {},
   "outputs": [],
   "source": [
    "import matplotlib.pyplot as plt\n",
    "Qval = np.linspace(20,110,100)\n",
    "value= [d_sigma_dQ2(Q**2, quark_couplings) for Q in Qval]\n",
    "plt.plot(Qval, value)\n",
    "plt.show()"
   ]
  },
  {
   "cell_type": "code",
   "execution_count": null,
   "id": "263ab820-266a-4a29-b4d9-35c99cbfc73a",
   "metadata": {},
   "outputs": [],
   "source": []
  },
  {
   "cell_type": "code",
   "execution_count": null,
   "id": "893396d5-15be-4caa-91f3-80f4ba943a02",
   "metadata": {},
   "outputs": [],
   "source": []
  }
 ],
 "metadata": {
  "kernelspec": {
   "display_name": "Python 3 (ipykernel)",
   "language": "python",
   "name": "python3"
  },
  "language_info": {
   "codemirror_mode": {
    "name": "ipython",
    "version": 3
   },
   "file_extension": ".py",
   "mimetype": "text/x-python",
   "name": "python",
   "nbconvert_exporter": "python",
   "pygments_lexer": "ipython3",
   "version": "3.9.19"
  }
 },
 "nbformat": 4,
 "nbformat_minor": 5
}
