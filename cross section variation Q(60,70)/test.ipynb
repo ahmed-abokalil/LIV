{
 "cells": [
  {
   "cell_type": "code",
   "execution_count": 1,
   "id": "643f4db4-affb-4764-a287-ee3606bbcec5",
   "metadata": {
    "scrolled": true
   },
   "outputs": [
    {
     "name": "stdout",
     "output_type": "stream",
     "text": [
      "LHAPDF 6.5.4 loading /home/ahmed/miniconda3/share/LHAPDF/NNPDF31_nnlo_as_0118/NNPDF31_nnlo_as_0118_0000.dat\n",
      "NNPDF31_nnlo_as_0118 PDF set, member #0, version 1; LHAPDF ID = 303600\n"
     ]
    }
   ],
   "source": [
    "import matplotlib.pyplot as plt\n",
    "import numpy as np\n",
    "import scipy as sp\n",
    "import torch as tn\n",
    "from scipy.integrate import quad\n",
    "import time\n",
    "\n",
    "# Import files\n",
    "from constants import *\n",
    "from pdfpy import *\n",
    "from functions import  d_sigma\n",
    "from rotation import *"
   ]
  },
  {
   "cell_type": "code",
   "execution_count": 2,
   "id": "7df05dc8-1519-4feb-bedb-abca58adb52c",
   "metadata": {},
   "outputs": [
    {
     "name": "stdout",
     "output_type": "stream",
     "text": [
      "[(2, 0.2013, -0.0449, 0.4551)]\n"
     ]
    }
   ],
   "source": [
    "# Quarks\n",
    "e = 0.302\n",
    "quarks = [\n",
    "    (2, 2/3*e, 'u', 1/2),\n",
    "     #(1, -1/3*e, 'd', -1/2),\n",
    "    # (3, -1/3*e, 's', -1/2),\n",
    "    # (4, 2/3*e, 'c', 1/2),\n",
    "    # (5, -1/3*e, 'b', -1/2),\n",
    "    #  (6, 2/3*e, 't', 1/2),\n",
    "]\n",
    "\n",
    "# List of quark properties and couplings\n",
    "quark_couplings = []\n",
    "\n",
    "for flavor, e_f, name, I3 in quarks:\n",
    "    g_fR = -e_f * sin2th_w\n",
    "    g_fL = I3 - e_f * sin2th_w\n",
    "    \n",
    "    # Rounding to 4 decimal places\n",
    "    e_f = round(e_f, 4)\n",
    "    g_fR = round(g_fR, 4)\n",
    "    g_fL = round(g_fL, 4)\n",
    "    \n",
    "    quark_couplings.append((flavor, e_f, g_fR, g_fL))\n",
    "\n",
    "print(quark_couplings)"
   ]
  },
  {
   "cell_type": "code",
   "execution_count": 3,
   "id": "4a72e9a2-9792-4968-b511-bfbb75301750",
   "metadata": {},
   "outputs": [],
   "source": [
    "#Don't foregt the metric convenction (+, -, -, -)\n",
    "\n",
    "CL = tn.tensor([\n",
    "    [0, 0, 0, 0],\n",
    "    [0, 0.01, 0, 0],\n",
    "    [0, 0, -0.01, 0],\n",
    "    [0,0, 0, 0]\n",
    "], dtype=tn.float32)\n",
    "\n",
    "CR = tn.tensor([\n",
    "    [0, 0, 0, 0],\n",
    "    [0, 0, 0, 0],\n",
    "    [0, 0, 0, 0],\n",
    "    [0, 0, 0, 0]\n",
    "], dtype=tn.float32)\n",
    "\n",
    "C0 = tn.tensor([\n",
    "    [0, 0, 0, 0],\n",
    "    [0, 0, 0, 0],\n",
    "    [0, 0, 0, 0],\n",
    "    [0, 0, 0, 0]\n",
    "], dtype=tn.float32)\n"
   ]
  },
  {
   "cell_type": "code",
   "execution_count": 4,
   "id": "1183f1ad-ca66-4d0d-a5a6-e485c08e0ccf",
   "metadata": {},
   "outputs": [],
   "source": [
    "# import time\n",
    "\n",
    "# # Get the current Unix time\n",
    "# current_unix_time = int(time.time())\n",
    "\n",
    "# print(current_unix_time)\n",
    "# print(start_time)"
   ]
  },
  {
   "cell_type": "code",
   "execution_count": 5,
   "id": "e5a39447-3375-40d0-a804-25b4672be761",
   "metadata": {},
   "outputs": [],
   "source": [
    "\n",
    "# p1 = 1 / np.sqrt(2) * tn.tensor([1,1, 1,1], dtype=tn.float32)\n",
    "\n",
    "# p2 = 1 / np.sqrt(2) * tn.tensor([1,-1, -1,-1], dtype=tn.float32)\n",
    "\n",
    "# # Initialize the variables\n",
    "\n",
    "# # start_time = datetime.now(timezone.utc).replace(microsecond=0, second=0, minute= 0)  # Start from the beginning of the current hour\n",
    "# start_time = int(time.time())\n",
    "# end_time = start_time + int(timedelta(days=2).total_seconds())\n",
    "# step = timedelta(hours=1)  # Step of 12 hours\n",
    "\n",
    "# # Lists to store the times and contr matrix elements\n",
    "# times = []\n",
    "# contr_elementsL = []\n",
    "# contr_elementsR = []\n",
    "\n",
    "# current_time = start_time\n",
    "# while current_time < end_time:\n",
    "#     # Convert current_time to a timestamp\n",
    "#     current_datetime = datetime.fromtimestamp(current_time)\n",
    "#     time_utc = current_datetime.timestamp()\n",
    "    \n",
    "#     # Calculate omega_t\n",
    "#     omega_t_sid = omega_utc * time_utc + 3.2830  # Example value, adjust as needed\n",
    "\n",
    "#     # Construct the complete rotation matrix from SCF to CMS\n",
    "#     R_matrix = R_y(latitude) @ R_x(azimuth) @ R_z @ R_Z(omega_t_sid)\n",
    "    \n",
    "#     # Compute contrL and contrR\n",
    "#     contrL = np.matmul(CL, R_matrix)\n",
    "#     contrR = np.matmul(CR, R_matrix)\n",
    "\n",
    "#     # Convert contrL and contrR to PyTorch tensors\n",
    "#     contrL_tensor = tn.tensor(contrL, dtype=tn.float32)\n",
    "#     contrR_tensor = tn.tensor(contrR, dtype=tn.float32)\n",
    "    \n",
    "#     # Compute results\n",
    "#     resultL = tn.dot(p1, tn.mv(contrL_tensor, p2))\n",
    "#     resultR = tn.dot(p1, tn.mv(contrR_tensor, p2))\n",
    "\n",
    "#     # Record the times and contr matrix elements\n",
    "#     times.append(current_time)\n",
    "#     contr_elementsL.append(contrL_tensor)\n",
    "#     contr_elementsR.append(contrR_tensor)\n",
    "\n",
    "#     # Move to the next time step\n",
    "#     current_time += int(step.total_seconds())\n",
    "# # Convert the list of contr elements to a NumPy array for easier indexing\n",
    "# # contr_elementsL = np.array(contr_elementsL)\n",
    "# # contr_elementsR = np.array(contr_elementsR)\n"
   ]
  },
  {
   "cell_type": "code",
   "execution_count": 6,
   "id": "4c350652-827f-426a-b104-8c9939528a27",
   "metadata": {},
   "outputs": [
    {
     "name": "stderr",
     "output_type": "stream",
     "text": [
      "/tmp/ipykernel_26433/2583148079.py:41: UserWarning: To copy construct from a tensor, it is recommended to use sourceTensor.clone().detach() or sourceTensor.clone().detach().requires_grad_(True), rather than torch.tensor(sourceTensor).\n",
      "  contrL_tensor = tn.tensor(contrL, dtype=tn.float32).clone().detach()\n",
      "/tmp/ipykernel_26433/2583148079.py:42: UserWarning: To copy construct from a tensor, it is recommended to use sourceTensor.clone().detach() or sourceTensor.clone().detach().requires_grad_(True), rather than torch.tensor(sourceTensor).\n",
      "  contrR_tensor = tn.tensor(contrR, dtype=tn.float32).clone().detach()\n"
     ]
    }
   ],
   "source": [
    "# Define the constant tensors once\n",
    "sqrt_half = 1 / np.sqrt(2)\n",
    "p1 = sqrt_half * tn.tensor([1, 1, 1, 1], dtype=tn.float32)\n",
    "p2 = sqrt_half * tn.tensor([1, -1, -1, -1], dtype=tn.float32)\n",
    "\n",
    "# Precompute total number of steps\n",
    "start_time = int(time.time())\n",
    "end_time = start_time + int(timedelta(days=2).total_seconds())\n",
    "step_seconds = int(timedelta(hours=1).total_seconds())\n",
    "num_steps = (end_time - start_time) // step_seconds\n",
    "\n",
    "# Lists to store the times and contr matrix elements\n",
    "times = []\n",
    "contr_elementsL = []\n",
    "contr_elementsR = []\n",
    "\n",
    "\n",
    "# Precompute parts of the rotation matrices that do not depend on omega_t_sid\n",
    "R_y_lat = R_y(latitude)\n",
    "R_x_azi = R_x(azimuth)\n",
    "\n",
    "# Main loop\n",
    "current_time = start_time\n",
    "for _ in range(num_steps):\n",
    "    # Convert current_time to a timestamp\n",
    "    current_datetime = datetime.fromtimestamp(current_time)\n",
    "    time_utc = current_datetime.timestamp()\n",
    "\n",
    "    # Calculate omega_t\n",
    "    omega_t_sid = omega_utc * time_utc + 3.2830  # Example value, adjust as needed\n",
    "\n",
    "    # Construct the complete rotation matrix from SCF to CMS\n",
    "    R_Z_omega = R_Z(omega_t_sid)\n",
    "    R_matrix = R_y_lat @ R_x_azi @ R_Z_omega\n",
    "\n",
    "    # Compute contrL and contrR using matrix multiplication\n",
    "    contrL = np.matmul(CL, R_matrix)\n",
    "    contrR = np.matmul(CR, R_matrix)\n",
    "\n",
    "    # Convert contrL and contrR to PyTorch tensors (using in-place operations)\n",
    "    contrL_tensor = tn.tensor(contrL, dtype=tn.float32).clone().detach()\n",
    "    contrR_tensor = tn.tensor(contrR, dtype=tn.float32).clone().detach()\n",
    "\n",
    "    # Compute results (using in-place operations)\n",
    "    resultL = tn.dot(p1, tn.mv(contrL_tensor, p2))\n",
    "    resultR = tn.dot(p1, tn.mv(contrR_tensor, p2))\n",
    "\n",
    "    # Record the times and contr matrix elements\n",
    "    times.append(current_time)\n",
    "    contr_elementsL.append(contrL_tensor)\n",
    "    contr_elementsR.append(contrR_tensor)\n",
    "\n",
    "    # Move to the next time step\n",
    "    current_time += step_seconds\n",
    "\n",
    "# Convert the list of contr elements to a NumPy array for easier indexing if needed\n",
    "# contr_elementsL = np.array(contr_elementsL)\n",
    "# contr_elementsR = np.array(contr_elementsR)\n"
   ]
  },
  {
   "cell_type": "code",
   "execution_count": 7,
   "id": "3bc0c6c2-9d34-4d36-b1a0-c4d537bbb51c",
   "metadata": {},
   "outputs": [],
   "source": [
    "# # Integration and plotting\n",
    "# Q_val = np.linspace(60, 70, 50)\n",
    "# a = 60 # Start of the Q range\n",
    "# b = 70  # End of the Q range\n",
    "# nbins = 1  # Number of bins\n",
    "# # Example momenta for protons\n",
    "\n",
    "\n",
    "# Q_bins = np.linspace(a, b, nbins + 1)\n",
    "\n",
    "# # Integrate d_sigma over each bin\n",
    "# # Integrate d_sigma over each bin\n",
    "# results = [d_sigma(Q**2, Cc, Ch, p1, p2, 1, quark_couplings) \n",
    "#            for Cc, Ch, Q in zip(contr_elementsL, contr_elementsR, Q_val)]\n",
    "\n",
    "# dsigma, dsigmaL, dsigmaR = zip(*results)\n",
    "\n",
    "\n",
    "\n",
    "# def integrand(Q, CL, CR, p1, p2, n):\n",
    "#     return d_sigma(Q**2,CL, CR, p1, p2, 1, quark_couplings)[0]\n",
    "    \n",
    "# sme_values = []\n",
    "    \n",
    "# for i in range(len(Q_bins) - 1):\n",
    "#     Q_start = Q_bins[i]\n",
    "#     Q_end = Q_bins[i + 1]\n",
    "#     integral_sm, _ = quad(integrand, Q_start, Q_end, args=(C0, C0, p1, p2, 1))\n",
    "#     for elemL, elemR in zip(contr_elementsL, contr_elementsR):\n",
    "#             integral_sme, _ = quad(integrand, Q_start, Q_end, args=(elemR, elemL, p1, p2, 1))\n",
    "#             sme_values.append(integral_sme)\n"
   ]
  },
  {
   "cell_type": "code",
   "execution_count": 8,
   "id": "3ba2bea1-f04a-4389-95b0-b01c7143abde",
   "metadata": {},
   "outputs": [
    {
     "name": "stderr",
     "output_type": "stream",
     "text": [
      "/home/ahmed/Desktop/test/functions.py:43: IntegrationWarning: The maximum number of subdivisions (50) has been achieved.\n",
      "  If increasing the limit yields no improvement it is advised to analyze \n",
      "  the integrand in order to determine the difficulties.  If the position of a \n",
      "  local difficulty can be determined (singularity, discontinuity) one will \n",
      "  probably gain from splitting up the interval and calling the integrator \n",
      "  on the subranges.  Perhaps a special-purpose integrator should be used.\n",
      "  result, error = quad(integrand, tau, 1)\n",
      "/tmp/ipykernel_26433/3758866373.py:24: IntegrationWarning: The occurrence of roundoff error is detected, which prevents \n",
      "  the requested tolerance from being achieved.  The error may be \n",
      "  underestimated.\n",
      "  integral_sme, _ = quad(integrand, Q_start, Q_end, args=(CL, CR, p1, p2, n, quark_couplings))\n",
      "/tmp/ipykernel_26433/3758866373.py:24: IntegrationWarning: The occurrence of roundoff error is detected, which prevents \n",
      "  the requested tolerance from being achieved.  The error may be \n",
      "  underestimated.\n",
      "  integral_sme, _ = quad(integrand, Q_start, Q_end, args=(CL, CR, p1, p2, n, quark_couplings))\n",
      "/tmp/ipykernel_26433/3758866373.py:24: IntegrationWarning: The occurrence of roundoff error is detected, which prevents \n",
      "  the requested tolerance from being achieved.  The error may be \n",
      "  underestimated.\n",
      "  integral_sme, _ = quad(integrand, Q_start, Q_end, args=(CL, CR, p1, p2, n, quark_couplings))\n",
      "/tmp/ipykernel_26433/3758866373.py:24: IntegrationWarning: The occurrence of roundoff error is detected, which prevents \n",
      "  the requested tolerance from being achieved.  The error may be \n",
      "  underestimated.\n",
      "  integral_sme, _ = quad(integrand, Q_start, Q_end, args=(CL, CR, p1, p2, n, quark_couplings))\n",
      "/tmp/ipykernel_26433/3758866373.py:24: IntegrationWarning: The occurrence of roundoff error is detected, which prevents \n",
      "  the requested tolerance from being achieved.  The error may be \n",
      "  underestimated.\n",
      "  integral_sme, _ = quad(integrand, Q_start, Q_end, args=(CL, CR, p1, p2, n, quark_couplings))\n",
      "/tmp/ipykernel_26433/3758866373.py:24: IntegrationWarning: The occurrence of roundoff error is detected, which prevents \n",
      "  the requested tolerance from being achieved.  The error may be \n",
      "  underestimated.\n",
      "  integral_sme, _ = quad(integrand, Q_start, Q_end, args=(CL, CR, p1, p2, n, quark_couplings))\n",
      "/tmp/ipykernel_26433/3758866373.py:24: IntegrationWarning: The occurrence of roundoff error is detected, which prevents \n",
      "  the requested tolerance from being achieved.  The error may be \n",
      "  underestimated.\n",
      "  integral_sme, _ = quad(integrand, Q_start, Q_end, args=(CL, CR, p1, p2, n, quark_couplings))\n",
      "/tmp/ipykernel_26433/3758866373.py:24: IntegrationWarning: The occurrence of roundoff error is detected, which prevents \n",
      "  the requested tolerance from being achieved.  The error may be \n",
      "  underestimated.\n",
      "  integral_sme, _ = quad(integrand, Q_start, Q_end, args=(CL, CR, p1, p2, n, quark_couplings))\n",
      "/tmp/ipykernel_26433/3758866373.py:24: IntegrationWarning: The occurrence of roundoff error is detected, which prevents \n",
      "  the requested tolerance from being achieved.  The error may be \n",
      "  underestimated.\n",
      "  integral_sme, _ = quad(integrand, Q_start, Q_end, args=(CL, CR, p1, p2, n, quark_couplings))\n",
      "/tmp/ipykernel_26433/3758866373.py:24: IntegrationWarning: The occurrence of roundoff error is detected, which prevents \n",
      "  the requested tolerance from being achieved.  The error may be \n",
      "  underestimated.\n",
      "  integral_sme, _ = quad(integrand, Q_start, Q_end, args=(CL, CR, p1, p2, n, quark_couplings))\n",
      "/tmp/ipykernel_26433/3758866373.py:24: IntegrationWarning: The occurrence of roundoff error is detected, which prevents \n",
      "  the requested tolerance from being achieved.  The error may be \n",
      "  underestimated.\n",
      "  integral_sme, _ = quad(integrand, Q_start, Q_end, args=(CL, CR, p1, p2, n, quark_couplings))\n",
      "/tmp/ipykernel_26433/3758866373.py:24: IntegrationWarning: The occurrence of roundoff error is detected, which prevents \n",
      "  the requested tolerance from being achieved.  The error may be \n",
      "  underestimated.\n",
      "  integral_sme, _ = quad(integrand, Q_start, Q_end, args=(CL, CR, p1, p2, n, quark_couplings))\n",
      "/tmp/ipykernel_26433/3758866373.py:24: IntegrationWarning: The occurrence of roundoff error is detected, which prevents \n",
      "  the requested tolerance from being achieved.  The error may be \n",
      "  underestimated.\n",
      "  integral_sme, _ = quad(integrand, Q_start, Q_end, args=(CL, CR, p1, p2, n, quark_couplings))\n",
      "/tmp/ipykernel_26433/3758866373.py:24: IntegrationWarning: The occurrence of roundoff error is detected, which prevents \n",
      "  the requested tolerance from being achieved.  The error may be \n",
      "  underestimated.\n",
      "  integral_sme, _ = quad(integrand, Q_start, Q_end, args=(CL, CR, p1, p2, n, quark_couplings))\n",
      "/tmp/ipykernel_26433/3758866373.py:24: IntegrationWarning: The occurrence of roundoff error is detected, which prevents \n",
      "  the requested tolerance from being achieved.  The error may be \n",
      "  underestimated.\n",
      "  integral_sme, _ = quad(integrand, Q_start, Q_end, args=(CL, CR, p1, p2, n, quark_couplings))\n",
      "/tmp/ipykernel_26433/3758866373.py:24: IntegrationWarning: The occurrence of roundoff error is detected, which prevents \n",
      "  the requested tolerance from being achieved.  The error may be \n",
      "  underestimated.\n",
      "  integral_sme, _ = quad(integrand, Q_start, Q_end, args=(CL, CR, p1, p2, n, quark_couplings))\n",
      "/home/ahmed/Desktop/test/functions.py:43: IntegrationWarning: The occurrence of roundoff error is detected, which prevents \n",
      "  the requested tolerance from being achieved.  The error may be \n",
      "  underestimated.\n",
      "  result, error = quad(integrand, tau, 1)\n",
      "/home/ahmed/Desktop/test/functions.py:43: IntegrationWarning: The maximum number of subdivisions (50) has been achieved.\n",
      "  If increasing the limit yields no improvement it is advised to analyze \n",
      "  the integrand in order to determine the difficulties.  If the position of a \n",
      "  local difficulty can be determined (singularity, discontinuity) one will \n",
      "  probably gain from splitting up the interval and calling the integrator \n",
      "  on the subranges.  Perhaps a special-purpose integrator should be used.\n",
      "  result, error = quad(integrand, tau, 1)\n",
      "/tmp/ipykernel_26433/3758866373.py:38: IntegrationWarning: The occurrence of roundoff error is detected, which prevents \n",
      "  the requested tolerance from being achieved.  The error may be \n",
      "  underestimated.\n",
      "  integral_sm, _ = quad(integrand, Q_start, Q_end, args=(C0, C0, p1, p2, 1, quark_couplings))\n"
     ]
    }
   ],
   "source": [
    "\n",
    "from multiprocessing import Pool\n",
    "\n",
    "# Define constants\n",
    "Q_val = np.linspace(60, 70, 50)\n",
    "a = 60  # Start of the Q range\n",
    "b = 70  # End of the Q range\n",
    "nbins = 1  # Number of bins\n",
    "\n",
    "# Example momenta for protons\n",
    "Q_bins = np.linspace(a, b, nbins + 1)\n",
    "\n",
    "# Precompute results for d_sigma\n",
    "results = [d_sigma(Q**2, Cc, Ch, p1, p2, 1, quark_couplings)\n",
    "           for Cc, Ch, Q in zip(contr_elementsL, contr_elementsR, Q_val)]\n",
    "dsigma, dsigmaL, dsigmaR = zip(*results)\n",
    "\n",
    "# Define the integrand function\n",
    "def integrand(Q, CL, CR, p1, p2, n, quark_couplings):\n",
    "    return d_sigma(Q**2, CL, CR, p1, p2, n, quark_couplings)[0]\n",
    "\n",
    "# Perform the SME integration in parallel\n",
    "def parallel_integral(args):\n",
    "    Q_start, Q_end, CL, CR, p1, p2, n, quark_couplings = args\n",
    "    integral_sme, _ = quad(integrand, Q_start, Q_end, args=(CL, CR, p1, p2, n, quark_couplings))\n",
    "    return integral_sme\n",
    "\n",
    "# Prepare arguments for parallel processing\n",
    "arguments = [(Q_bins[0], Q_bins[1], elemL, elemR, p1, p2, 1, quark_couplings)\n",
    "             for elemL, elemR in zip(contr_elementsL, contr_elementsR)]\n",
    "\n",
    "# Use a Pool to perform parallel integration\n",
    "with Pool() as pool:\n",
    "    sme_values = pool.map(parallel_integral, arguments)\n",
    "\n",
    "# Perform the Standard Model integration once\n",
    "Q_start = Q_bins[0]\n",
    "Q_end = Q_bins[1]\n",
    "integral_sm, _ = quad(integrand, Q_start, Q_end, args=(C0, C0, p1, p2, 1, quark_couplings))\n",
    "\n",
    "# integral_sm now holds the result for the Standard Model integration\n"
   ]
  },
  {
   "cell_type": "code",
   "execution_count": 155,
   "id": "44669117-8fc3-4ab7-ae9f-b25c58479914",
   "metadata": {},
   "outputs": [],
   "source": [
    "resultssm = [d_sigma(80**2, C0, C0, p1, p2, 1, quark_couplings)]\n",
    "dsigmasm, dsigmaLsm, dsigmaRsm = zip(*resultssm)\n",
    "\n",
    "resultssme = [d_sigma(80**2, Cc, Ch, p1, p2, 1, quark_couplings)\n",
    "           for Cc, Ch, Q in zip(contr_elementsL, contr_elementsR, Q_val)]\n",
    "dsigmasme, dsigmaLsme, dsigmaRsme = zip(*resultssme)\n"
   ]
  },
  {
   "cell_type": "code",
   "execution_count": 169,
   "id": "0ab45b72-d84c-442f-918c-2246056b5188",
   "metadata": {},
   "outputs": [
    {
     "data": {
      "image/png": "[encoded data removed]",
      "text/plain": [
       "<Figure size 1200x600 with 1 Axes>"
      ]
     },
     "metadata": {},
     "output_type": "display_data"
    }
   ],
   "source": [
    "dratio = [t/dsigmasm[0] for t in dsigmasme]\n",
    "\n",
    "plt.figure(figsize=(12, 6))\n",
    "\n",
    "# Create the step plot\n",
    "plt.step(times,  dratio, where='post', color='r', linestyle='--')\n",
    "# plt.axhline(y=1, color='b', linestyle='-', label='y = 1')\n",
    "# plt.plot(times, dsigma)\n",
    "plt.xlabel('Time')\n",
    "# plt.yscale('log')\n",
    "plt.ylabel('$ratio$')\n",
    "plt.grid('true')\n",
    "# plt.title('differeintal cross section at Q=60 GeV')\n",
    "# plt.savefig('intrsec.png')\n",
    "plt.show()"
   ]
  },
  {
   "cell_type": "code",
   "execution_count": 161,
   "id": "540a93ba-deff-459f-af28-58213b80608e",
   "metadata": {},
   "outputs": [
    {
     "name": "stdout",
     "output_type": "stream",
     "text": [
      "[0.9999999999645305, 0.9999999999612879, 0.9999999999611576, 0.9999999999629408, 0.99999999997785, 0.9999999999928666, 1.0000000000040152, 1.0000000000387341, 1.0000000000803517, 1.0000000001163378, 1.0000000001730454, 1.0000000001875553, 1.0000000002334544, 1.0000000002708203, 1.000000000277296, 1.0000000002460105, 1.0000000001913711, 1.0000000001761489, 1.0000000001520284, 1.0000000000832718, 1.000000000040866, 1.0000000000079319, 0.9999999999975793, 0.9999999999831313, 0.9999999999642619, 0.9999999999612688, 0.9999999999611715, 0.999999999963229, 0.9999999999820262, 0.9999999999937973, 1.0000000000065659, 1.0000000000389713, 1.0000000000810287, 1.000000000129088, 1.0000000001738485, 1.0000000001885687, 1.0000000002364287, 1.0000000002731997, 1.0000000002771865, 1.0000000002420104, 1.0000000001905764, 1.0000000001755474, 1.0000000001451317, 1.0000000000823124, 1.0000000000401559, 1.00000000000711, 0.9999999999970611, 0.9999999999828916]\n"
     ]
    }
   ],
   "source": [
    "print(dratio)"
   ]
  },
  {
   "cell_type": "code",
   "execution_count": 109,
   "id": "4f5e80e2-783b-42cb-a63f-9d854755f01d",
   "metadata": {},
   "outputs": [
    {
     "data": {
      "image/png": "[encoded data removed]",
      "text/plain": [
       "<Figure size 1200x600 with 1 Axes>"
      ]
     },
     "metadata": {},
     "output_type": "display_data"
    }
   ],
   "source": [
    "Q2 = np.linspace(17.5**2, 90**2, 100)\n",
    "#human_readable_times = [datetime.fromtimestamp(ts) for ts in unix_times]  # Convert to datetime objects\n",
    "ratio = [t/integral_sm for t in sme_values]\n",
    "filtered = [value for index, value in enumerate(ratio) if index != 11]\n",
    "filtimes = [value for index, value in enumerate(times) if index != 11]\n",
    "plt.figure(figsize=(12, 6))\n",
    "\n",
    "# Create the step plot\n",
    "plt.step(filtimes,  [t-1 for t in filtered], where='post', color='r', linestyle='--')\n",
    "plt.axhline(y=0, color='b', linestyle='-', label='y = 1')\n",
    "# plt.plot(times, dsigma)\n",
    "plt.xlabel('Time')\n",
    "# plt.yscale('log')\n",
    "plt.ylabel('$ratio$')\n",
    "plt.grid('true')\n",
    "# plt.title('differeintal cross section at Q=60 GeV')\n",
    "# plt.savefig('intrsec.png')\n",
    "plt.show()"
   ]
  },
  {
   "cell_type": "code",
   "execution_count": 51,
   "id": "cd381e2c-31da-45dd-a4b7-ba17d8ca5d2e",
   "metadata": {},
   "outputs": [
    {
     "name": "stdout",
     "output_type": "stream",
     "text": [
      "[1721826964 1721830564 1721834164 1721837764 1721841364 1721844964\n",
      " 1721848564 1721852164 1721855764 1721859364 1721862964 1721866564\n",
      " 1721870164 1721873764 1721877364 1721880964 1721884564 1721888164\n",
      " 1721891764 1721895364 1721898964 1721902564 1721906164 1721909764\n",
      " 1721916964 1721920564 1721924164 1721927764 1721931364 1721934964\n",
      " 1721938564 1721942164 1721945764 1721949364 1721952964 1721956564\n",
      " 1721960164 1721963764 1721967364 1721970964 1721974564 1721978164\n",
      " 1721981764 1721985364 1721988964 1721992564 1721996164]\n"
     ]
    }
   ],
   "source": [
    "print(np.delete(times, 24))"
   ]
  },
  {
   "cell_type": "code",
   "execution_count": 61,
   "id": "5a1f79ff-c315-48fe-9c2f-d8b7634c6cc1",
   "metadata": {},
   "outputs": [
    {
     "name": "stdout",
     "output_type": "stream",
     "text": [
      "[1.0000000450481688, 0.9999999086778985, 1.0000000082309863, 0.9999999044844201, 1.0000001406662777, 0.9999999944502868, 1.000000044528101, 0.9999999667945667, 0.9999999262431126, 0.999999987968159, 0.9999999435406987, 1.000001113552699, 1.0000000023400353, 1.0000000310427233, 0.9999999603101845, 0.9999999471822865, 1.0000001998328731, 1.0000000382007421, 1.0000000089222596, 0.9999999996583847, 1.0000000955301218, 0.9999999704514039, 0.9999999696787163, 0.9999998939307143, 0.999999959939044, 0.9999999507880172, 1.0000000301996776, 0.9999999358371945, 0.9999999605665572, 1.000000004922639, 0.9999999922785355, 0.9999999934505436, 0.9999999963192061, 0.9999998960325917, 0.9999998966308564, 1.000000019963587, 1.0000000433148182, 0.9999999514897993, 1.0000000659279455, 1.0000000013952057, 1.0000000757678842, 0.9999999618628648, 0.9999999916335266, 0.9999999509117056, 1.0000000758585605, 0.9999999863148088, 1.0000000411565595, 0.9999999400825469]\n",
      "[1.0000000450481688, 0.9999999086778985, 0.9999999044844201, 1.0000001406662777, 0.9999999944502868, 1.000000044528101, 0.9999999667945667, 0.9999999262431126, 0.999999987968159, 0.9999999435406987, 1.000001113552699, 1.0000000023400353, 1.0000000310427233, 0.9999999603101845, 0.9999999471822865, 1.0000001998328731, 1.0000000382007421, 1.0000000089222596, 0.9999999996583847, 1.0000000955301218, 0.9999999704514039, 0.9999999696787163, 0.9999998939307143, 0.999999959939044, 0.9999999507880172, 1.0000000301996776, 0.9999999358371945, 0.9999999605665572, 1.000000004922639, 0.9999999922785355, 0.9999999934505436, 0.9999999963192061, 0.9999998960325917, 0.9999998966308564, 1.000000019963587, 1.0000000433148182, 0.9999999514897993, 1.0000000659279455, 1.0000000013952057, 1.0000000757678842, 0.9999999618628648, 0.9999999916335266, 0.9999999509117056, 1.0000000758585605, 0.9999999863148088, 1.0000000411565595, 0.9999999400825469]\n"
     ]
    }
   ],
   "source": [
    "print([t/integral_sm for t in sme_values])\n",
    "print([value for index, value in enumerate(ratio) if index != 2])"
   ]
  },
  {
   "cell_type": "code",
   "execution_count": null,
   "id": "97da77df-f02a-4e9e-9cbc-6544d082bb7a",
   "metadata": {},
   "outputs": [],
   "source": [
    "# import torch\n",
    "# import numpy as np\n",
    "\n",
    "# # Define the covariant tensor C_{mu nu}\n",
    "# CL = torch.tensor([\n",
    "#     [0, 0, 0, 0],\n",
    "#     [0, 0.01, 0, 0],\n",
    "#     [0, 0, -0.01, 0],\n",
    "#     [0, 0, 0, 00]\n",
    "# ], dtype=torch.float32)\n",
    "\n",
    "# # Define the metric tensors g^{mu alpha} and g^{nu beta}\n",
    "# # For example, using Minkowski metric with signature (+, -, -, -)\n",
    "# g = torch.tensor([\n",
    "#     [1, 0, 0, 0],\n",
    "#     [0, -1, 0, 0],\n",
    "#     [0, 0, -1, 0],\n",
    "#     [0, 0, 0, -1]\n",
    "# ], dtype=torch.float32)\n",
    "\n",
    "# # Raise indices of the covariant tensor CL using the metric tensors\n",
    "# # First, apply the first metric tensor to raise the first index\n",
    "# temp = torch.matmul(g, CL)  # g^{mu alpha} * C_{alpha nu}\n",
    "\n",
    "# # Then apply the second metric tensor to raise the second index\n",
    "# raised_tensor = torch.matmul(temp, g)  # g^{nu beta} * temp_{alpha beta}\n",
    "\n",
    "# print(raised_tensor)\n"
   ]
  },
  {
   "cell_type": "code",
   "execution_count": 113,
   "id": "d4325fae-574c-4dc0-be35-1c57b498d660",
   "metadata": {},
   "outputs": [
    {
     "name": "stdout",
     "output_type": "stream",
     "text": [
      "[(102787029023.63045, 88180053886.52376, 14606975137.106684), (102392767908.81767, 88083745431.66327, 14309022477.154404), (102022542731.19177, 88003687950.88031, 14018854780.311464), (101675381343.92133, 87939407060.04352, 13735974283.877815), (101351657102.66345, 87891199408.22604, 13460457694.437403), (101049560612.13815, 87857729761.50858, 13191830850.629581), (100770889845.82059, 87840731971.93575, 12930157873.884834), (100513574699.95676, 87838507847.99527, 12675066851.961493), (100279091471.63673, 87852653705.53526, 12426437766.101473), (100066065349.51785, 87882017049.76984, 12184048299.74802), (99874828014.01357, 87927002049.01971, 11947825964.99385), (99705204583.59259, 87987643735.04105, 11717560848.551544), (99557099605.71179, 88063982461.05658, 11493117144.655214), (99430079287.59706, 88155803671.00757, 11274275616.58949), (99324914304.10562, 88264019744.39276, 11060894559.712866), (99240780525.87872, 88387867796.84435, 10852912729.034374), (99177622671.50998, 88527537864.50308, 10650084807.006903), (99136076367.07884, 88683705873.90671, 10452370493.172134), (99115341536.15689, 88855787600.86343, 10259553935.293455), (99116023779.20877, 89044440966.04999, 10071582813.158781), (99138015810.306, 89249733573.36272, 9888282236.94328), (99181085204.97696, 89471535210.12424, 9709549994.852724), (99245660512.08226, 89710390307.04372, 9535270205.038544), (99331574809.73537, 89966243071.58733, 9365331738.148045), (99439080116.30014, 90239453480.90189, 9199626635.39826), (99568253588.70006, 90530198132.19849, 9038055456.501568), (99719133140.82396, 90838633176.03816, 8880499964.785799), (99892214381.10086, 91165331191.78687, 8726883189.313992), (100087503090.72961, 91510378766.01166, 8577124324.717949), (100305273193.36446, 91874167105.73314, 8431106087.631324), (100545755898.37813, 92257006449.08958, 8288749449.288538), (100809226079.19434, 92659256369.51263, 8149969709.681694), (101095904032.68065, 93081222759.46518, 8014681273.215471), (101406184338.61543, 93523381207.95195, 7882803130.663483), (101740258880.09727, 93986001891.83206, 7754256988.26521), (102098614870.70653, 94469647472.60977, 7628967398.096756), (102481513939.3591, 94974655967.99432, 7506857971.364775), (102889355870.65327, 95501489486.94423, 7387866383.709051), (103322691344.97177, 96050778378.8236, 7271912966.148172), (103781664747.88458, 96622724075.31686, 7158940672.567718), (104267366522.40944, 97218482457.35892, 7048884065.050515), (104779722257.13315, 97838043816.0768, 6941678441.056344), (105319541675.55246, 98482272972.42303, 6837268703.129432), (105887367692.07788, 99151773808.36737, 6735593883.710513), (106483842834.07608, 99847241640.96335, 6636601193.112739), (107109557744.29674, 100569319304.73848, 6540238439.558252), (107765353962.00877, 101318895877.12062, 6446458084.888148), (108451866696.66934, 102096661095.46687, 6355205601.202468)]\n"
     ]
    }
   ],
   "source": [
    "print(results)"
   ]
  },
  {
   "cell_type": "code",
   "execution_count": null,
   "id": "a71864ac-7c50-4dfb-b481-586f0cf332ba",
   "metadata": {},
   "outputs": [],
   "source": []
  }
 ],
 "metadata": {
  "kernelspec": {
   "display_name": "Python 3 (ipykernel)",
   "language": "python",
   "name": "python3"
  },
  "language_info": {
   "codemirror_mode": {
    "name": "ipython",
    "version": 3
   },
   "file_extension": ".py",
   "mimetype": "text/x-python",
   "name": "python",
   "nbconvert_exporter": "python",
   "pygments_lexer": "ipython3",
   "version": "3.12.2"
  }
 },
 "nbformat": 4,
 "nbformat_minor": 5
}
