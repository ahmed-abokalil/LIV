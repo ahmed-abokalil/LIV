{
 "cells": [
  {
   "cell_type": "code",
   "execution_count": 42,
   "id": "1efc903e-8a52-499e-ba6a-ee33d415490f",
   "metadata": {},
   "outputs": [
    {
     "name": "stdout",
     "output_type": "stream",
     "text": [
      "tensor([[ 1.0000000000,  0.0000000000,  0.0000000000,  0.0000000000],\n",
      "        [ 0.0000000000,  0.2692489624,  0.9526260495,  0.1414520144],\n",
      "        [ 0.0000000000, -0.1694827080, -0.0977148414,  0.9806770086],\n",
      "        [ 0.0000000000,  0.9480404854, -0.2880199552,  0.1351440251]])\n"
     ]
    }
   ],
   "source": [
    "import numpy as np\n",
    "from astropy.coordinates import SkyCoord, HeliocentricTrueEcliptic, ITRS, EarthLocation\n",
    "from astropy.time import Time\n",
    "import astropy.units as u\n",
    "import torch as tn\n",
    "\n",
    "\n",
    "tn.set_printoptions(precision=10, sci_mode=False)\n",
    "\n",
    "# Time at CMS\n",
    "time = Time.now()\n",
    "\n",
    "# Define the location of CMS in terms of longitude, latitude and azimuth\n",
    "\n",
    "azimuth = 1.7677    \n",
    "latitude = 0.8082  \n",
    "longitude = 0.1061   \n",
    "\n",
    "# Distance from the Sun\n",
    "distance_sun = 1 * u.au\n",
    "\n",
    "# Define the Earth's angular velocity (rad/s)\n",
    "omega_utc = 7.27221e-5     # Earth's angular velocity in rad/s at UTC.\n",
    "\n",
    "\n",
    "omega_t = omega_utc*time.ut1.datetime.timestamp() + 3.2830    #omeag*t = omega_UTC * t_CMS +phi_UNIX +phi_longit\n",
    "\n",
    "# Rotation matrices to go from ITRS to CMS frame\n",
    "\n",
    "# rotation around the z-axis which makes the x-axis normal to the plane of the LHC.\n",
    "\n",
    "R_z = tn.tensor([\n",
    "        [1,0,0,0],\n",
    "        [0,0,-1,0],\n",
    "        [0,1,0,0],\n",
    "        [0,0,0,1]\n",
    "    ], dtype=tn.float32)\n",
    "\n",
    "\n",
    "# To orient the z-axis towards the North. We rotate counterclockwise around the x′ axis with an angle π −θ (co-azimuth).\n",
    "def R_x(angle):\n",
    "    return tn.tensor([\n",
    "        [1, 0, 0, 0],\n",
    "        [0, 1, 0, 0],\n",
    "        [0, 0, - np.cos(angle), np.sin(angle)],\n",
    "        [0, 0, - np.sin(angle), - np.cos(angle)]\n",
    "    ], dtype=tn.float32)\n",
    "\n",
    "\n",
    "# Rotation around the y axis to align the z-axis with the Z-axis of the SCF.\n",
    "def R_y(angle):\n",
    "    return tn.tensor([\n",
    "        [1, 0, 0, 0],\n",
    "        [0, np.cos(angle), 0, np.sin(angle)],\n",
    "        [0, 0, 1, 0],\n",
    "        [0, -np.sin(angle), 0, np.cos(angle)]\n",
    "    ], dtype=tn.float32)\n",
    "\n",
    "\n",
    "# A final rotation around the Z-axis has two purposes: to follow the rotation of the Earth over time and to synchronize with the SCF:\n",
    "def R_Z(angle):\n",
    "    return tn.tensor([\n",
    "        [1, 0 , 0, 0],\n",
    "        [0, np.cos(angle), -np.sin(angle), 0],\n",
    "        [0, np.sin(angle), np.cos(angle), 0],\n",
    "        [0, 0, 0, 1]\n",
    "    ], dtype=tn.float32)\n",
    "\n",
    "\n",
    "\n",
    "# Construct the complete rotation matrix from SCF to CMS\n",
    "R_matrix= R_y(latitude)@R_x(azimuth)@R_z@R_Z(omega_t) \n",
    "\n",
    "print(R_matrix)\n"
   ]
  },
  {
   "cell_type": "code",
   "execution_count": null,
   "id": "aa95eddf-35be-4312-86b9-6a07083d372f",
   "metadata": {},
   "outputs": [],
   "source": []
  },
  {
   "cell_type": "code",
   "execution_count": null,
   "id": "84ba63ee-f503-499f-a724-af1b7356a976",
   "metadata": {},
   "outputs": [],
   "source": []
  },
  {
   "cell_type": "code",
   "execution_count": null,
   "id": "648231ea-3bc5-493b-9ca9-ba93237570f7",
   "metadata": {},
   "outputs": [],
   "source": []
  }
 ],
 "metadata": {
  "kernelspec": {
   "display_name": "Python 3 (ipykernel)",
   "language": "python",
   "name": "python3"
  },
  "language_info": {
   "codemirror_mode": {
    "name": "ipython",
    "version": 3
   },
   "file_extension": ".py",
   "mimetype": "text/x-python",
   "name": "python",
   "nbconvert_exporter": "python",
   "pygments_lexer": "ipython3",
   "version": "3.12.2"
  }
 },
 "nbformat": 4,
 "nbformat_minor": 5
}
