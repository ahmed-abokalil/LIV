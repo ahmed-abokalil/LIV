{
 "cells": [
  {
   "cell_type": "markdown",
   "id": "3c856034-0901-4272-b027-d2e6c557e44b",
   "metadata": {},
   "source": [
    "## Libraries"
   ]
  },
  {
   "cell_type": "code",
   "execution_count": 2,
   "id": "37a2cfa7-617d-4907-b82b-a57fa8722e73",
   "metadata": {},
   "outputs": [],
   "source": [
    "import matplotlib.pyplot as plt\n",
    "import numpy as np\n",
    "import scipy as sp\n",
    "import lhapdf\n",
    "from scipy.constants import physical_constants as pc\n",
    "from scipy.integrate import quad\n",
    "from math import pi\n",
    "import math\n",
    "import sympy as sy \n",
    "import numdifftools as nd\n",
    "import torch as tn"
   ]
  },
  {
   "cell_type": "markdown",
   "id": "cc4216da-c127-4627-a18a-7810527f26da",
   "metadata": {},
   "source": [
    "## Constants"
   ]
  },
  {
   "cell_type": "code",
   "execution_count": 4,
   "id": "748506f2-7743-4690-989f-7b69fa7af4bf",
   "metadata": {},
   "outputs": [],
   "source": [
    "# Constants\n",
    "s = (13e3)**2 # Center-of-mass energy squared in GeV^2\n",
    "Nc = 3  # Number of colors in QCD\n",
    "m_Z = 91.1876  # Mass of the Z boson in GeV/c^2\n",
    "Gamma_Z = 2.4952  # Decay width of the Z boson in GeV\n",
    "alpha = 1 / 137  # Fine-structure constant\n",
    "sin2th_w = pc['weak mixing angle'][0]  # Mixing angle\n",
    "e = 0.303 # Elementry charge in natural units\n"
   ]
  },
  {
   "cell_type": "markdown",
   "id": "a2504905-2401-46c3-9503-db1b00e1b229",
   "metadata": {},
   "source": [
    "## PDF related terms"
   ]
  },
  {
   "cell_type": "code",
   "execution_count": 6,
   "id": "a36700e7-5a28-4d89-95c2-a6acb8783a22",
   "metadata": {},
   "outputs": [
    {
     "name": "stdout",
     "output_type": "stream",
     "text": [
      "LHAPDF 6.5.4 loading /home/ahmed/miniconda3/share/LHAPDF/NNPDF31_nnlo_as_0118/NNPDF31_nnlo_as_0118_0000.dat\n",
      "NNPDF31_nnlo_as_0118 PDF set, member #0, version 1; LHAPDF ID = 303600\n"
     ]
    }
   ],
   "source": [
    "# Load PDF set\n",
    "pdf = lhapdf.mkPDF(\"NNPDF31_nnlo_as_0118\", 0)"
   ]
  },
  {
   "cell_type": "markdown",
   "id": "6cffb966-7710-454d-9b5c-196aebca2471",
   "metadata": {},
   "source": [
    "## pdfs are generted as x*f(x,Q)"
   ]
  },
  {
   "cell_type": "code",
   "execution_count": 8,
   "id": "dde6e84e-e1e7-4c99-a456-5f4974335a75",
   "metadata": {},
   "outputs": [],
   "source": [
    "def f_s(x, tau_x, flavor, Q):\n",
    "    return 1/x *pdf.xfxQ(flavor, x, Q) * 1/tau_x *pdf.xfxQ(-flavor, tau_x, Q) + \\\n",
    "           1/tau_x *pdf.xfxQ(flavor, tau_x, Q) *1/x * pdf.xfxQ(-flavor, x, Q)\n",
    "\n",
    "def num_derivative(func, x, h=1e-15, *args):\n",
    "    return (func(x + h, *args) - func(x , *args)) / (h)\n",
    "\n",
    "def f_prime_s(x, tau_x, flavor, Q):\n",
    "    f_f_tau_x_prime = num_derivative(lambda t: 1/t *pdf.xfxQ(flavor, t, Q), tau_x)\n",
    "    f_fbar_tau_x_prime = num_derivative(lambda t:1/t *pdf.xfxQ(-flavor, t, Q), tau_x)\n",
    "    \n",
    "    return (1/x * pdf.xfxQ(flavor, x, Q) *f_fbar_tau_x_prime + \\\n",
    "           1/x *f_f_tau_x_prime *pdf.xfxQ(-flavor, x, Q))"
   ]
  },
  {
   "cell_type": "code",
   "execution_count": 9,
   "id": "9989e1e4-20b7-403b-ad17-5be48aff0f7a",
   "metadata": {},
   "outputs": [],
   "source": [
    "def sigma_hat_prime(x, tau_x, C, p1, p2, flavor, Q, n):\n",
    "    \n",
    "    # Perform the contraction with c\n",
    "    \n",
    "    term1 = (n + (2 / s) * (1 + x / tau_x) *\n",
    "             (tn.dot(p1, tn.mv(C, p2)) + tn.dot(p2, tn.mv(C, p1)) +\n",
    "              tn.dot(p1, tn.mv(C, p1)) + tn.dot(p2, tn.mv(C, p2)))) * f_s(x, tau_x, flavor, Q)\n",
    "\n",
    "    \n",
    "    term2 = (2 / s) *(x * tn.dot(p1, tn.mv(C, p1)) + tau_x * tn.dot(p1, tn.mv(C, p2)) +\n",
    "             tau_x * tn.dot(p1, tn.mv(C, p2)) + x * tn.dot(p2, tn.mv(C, p2)))* f_prime_s(x, tau_x, flavor, Q)\n",
    "    \n",
    "    return term1 + term2"
   ]
  },
  {
   "cell_type": "code",
   "execution_count": 10,
   "id": "0f658a49-5442-441b-92bc-154ee839da8e",
   "metadata": {},
   "outputs": [],
   "source": [
    "def integrate_sigma_hat_prime(tau,C, p1, p2,flavor, Q, n):\n",
    "    def integrand(x):\n",
    "        tau_x = tau/x\n",
    "        return sigma_hat_prime(x, tau, C, p1, p2, flavor, Q, n) * tau_x\n",
    "    \n",
    "    result, error = quad(integrand, tau, 1)\n",
    "    return result"
   ]
  },
  {
   "cell_type": "code",
   "execution_count": 11,
   "id": "782642f9-4011-4c45-9a98-61adccb33ffb",
   "metadata": {},
   "outputs": [
    {
     "name": "stdout",
     "output_type": "stream",
     "text": [
      "[(2, 0.2013, -0.0449, 0.4551)]\n"
     ]
    }
   ],
   "source": [
    "# Quarks\n",
    "e = 0.302\n",
    "quarks = [\n",
    "    (2, 2/3*e, 'u', 1/2),\n",
    "     #(1, -1/3*e, 'd', -1/2),\n",
    "    # (3, -1/3*e, 's', -1/2),\n",
    "    # (4, 2/3*e, 'c', 1/2),\n",
    "    # (5, -1/3*e, 'b', -1/2),\n",
    "    #  (6, 2/3*e, 't', 1/2),\n",
    "]\n",
    "\n",
    "# List of quark properties and couplings\n",
    "quark_couplings = []\n",
    "\n",
    "for flavor, e_f, name, I3 in quarks:\n",
    "    g_fR = -e_f * sin2th_w\n",
    "    g_fL = I3 - e_f * sin2th_w\n",
    "    \n",
    "    # Rounding to 4 decimal places\n",
    "    e_f = round(e_f, 4)\n",
    "    g_fR = round(g_fR, 4)\n",
    "    g_fL = round(g_fL, 4)\n",
    "    \n",
    "    quark_couplings.append((flavor, e_f, g_fR, g_fL))\n",
    "\n",
    "print(quark_couplings)"
   ]
  },
  {
   "cell_type": "markdown",
   "id": "3ee6bdd2-d2c3-4849-8cb5-1fce1da7f511",
   "metadata": {},
   "source": [
    "## Define terms from the equations"
   ]
  },
  {
   "cell_type": "code",
   "execution_count": 13,
   "id": "ac4c8c69-ed30-4e32-84fe-d5154dbac9b0",
   "metadata": {},
   "outputs": [],
   "source": [
    "def term_1(Q2, e_f):\n",
    "    return 0.389* 1e9* e_f**2 / (2*Q2**2)"
   ]
  },
  {
   "cell_type": "code",
   "execution_count": 14,
   "id": "7f50a53e-eb49-4f50-b71d-2bb29abc3f4e",
   "metadata": {},
   "outputs": [],
   "source": [
    "def term_2(Q2, e_f, g, p1, p2):\n",
    "    return 0.389* 1e9*(((1 - (m_Z**2 / Q2)) / ((Q2 - m_Z**2)**2 + m_Z**2 * Gamma_Z**2)) *\n",
    "            (1 - 4 * sin2th_w) / (4 * sin2th_w * (1- sin2th_w ))* e_f * g)"
   ]
  },
  {
   "cell_type": "code",
   "execution_count": 15,
   "id": "7b084e95-c6a4-4031-bb2e-33cf31a426e3",
   "metadata": {},
   "outputs": [],
   "source": [
    "def term_3(Q2, e_f, g, p1, p2):\n",
    "    return 0.389* 1e9*(1 / ((Q2 - m_Z**2)**2 + m_Z**2 * Gamma_Z**2) * \n",
    "            (1 + (1 - 4 * sin2th_w)**2) / (32 * sin2th_w**2 * (1-sin2th_w)**2)) * g**2"
   ]
  },
  {
   "cell_type": "code",
   "execution_count": 16,
   "id": "48e830e4-2cbb-4394-99c5-9a590548b2db",
   "metadata": {},
   "outputs": [],
   "source": [
    "def d_sigma(Q2, CL, CR, p1, p2, n):\n",
    "    tau = Q2 / s\n",
    "    d_sigma = 0\n",
    "    d_sigmaL = 0\n",
    "    d_sigmaR = 0\n",
    "\n",
    "    for flavor, e_f, g_fR, g_fL in quark_couplings:\n",
    "            integral1 = (13e3)**2 *integrate_sigma_hat_prime(tau, CL, p1, p2, flavor, np.sqrt(Q2), n)\n",
    "            integral2 = (13e3)**2 *integrate_sigma_hat_prime(tau, CR, p1, p2, flavor, np.sqrt(Q2), n)\n",
    "    \n",
    "            d_sigmaL += 4 * np.pi * alpha**2 / (3 * Nc) * (\n",
    "                        term_1(Q2, e_f) + term_2(Q2, e_f, g_fL, p1, p2) + \n",
    "                        term_3(Q2, e_f, g_fL, p1, p2)\n",
    "                        ) * integral1\n",
    "    \n",
    "            d_sigmaR += 4 * np.pi * alpha**2 / (3 * Nc) * (\n",
    "                        term_1(Q2, e_f) + term_2(Q2, e_f, g_fR, p1, p2) + \n",
    "                        term_3(Q2, e_f, g_fR, p1, p2)\n",
    "                        ) * integral2\n",
    "            \n",
    "    \n",
    "    \n",
    "    return d_sigmaL+d_sigmaR, d_sigmaL, d_sigmaR"
   ]
  },
  {
   "cell_type": "markdown",
   "id": "73a5a0bc-a939-4bfe-ac97-187a65c35b70",
   "metadata": {},
   "source": [
    "## Coefficients"
   ]
  },
  {
   "cell_type": "code",
   "execution_count": 18,
   "id": "c225aa42-8b28-4f46-a9ed-8cce6d742718",
   "metadata": {},
   "outputs": [],
   "source": [
    "#Don't foregt the metric convenction (+, -, -, -)\n",
    "\n",
    "CL = tn.tensor([\n",
    "    [0, 0, 0, 0],\n",
    "    [0, 0, 0, 0],\n",
    "    [0, 0, 0, 0],\n",
    "    [0, 0, 0, 2e-5]\n",
    "], dtype=tn.float32)\n",
    "\n",
    "CR = tn.tensor([\n",
    "    [0, 0, 0, 0],\n",
    "    [0, 0, 0, 0],\n",
    "    [0, 0, 0, 0],\n",
    "    [0, 0, 0, 0]\n",
    "], dtype=tn.float32)"
   ]
  },
  {
   "cell_type": "markdown",
   "id": "32a4bdb2-8dff-4244-b4be-ea9e01bc1f12",
   "metadata": {},
   "source": [
    "## SM Case"
   ]
  },
  {
   "cell_type": "code",
   "execution_count": 20,
   "id": "9a9ed943-c4af-4c8e-abf8-43e81c26b8d2",
   "metadata": {},
   "outputs": [],
   "source": [
    "# Q_val3 = np.linspace(17.5, 90, 100)\n",
    "\n",
    "# sm = [d_sigma(Q**2, 0, 0, p1, p2, 1) for Q in Q_val3]\n",
    "# dsigma_sm, dsigmaL_sm, dsigmaR_sm = zip(*sm)\n",
    "\n",
    "# plt.figure(figsize=(20, 6))\n",
    "# Q2_val3 = Q_val3**2\n",
    "# # Create plot\n",
    "# plt.plot(Q2_val3, dsigma_sm ,color='r', linestyle='-')\n",
    "\n",
    "# plt.xlabel('$Q^2$')\n",
    "# plt.yscale('log')\n",
    "# plt.ylabel('$d\\\\sigma /dQ^2$')\n",
    "# plt.title(f'$d\\\\sigma/dQ^2$ vs $Q^2$ in case of SM, $C^{{33}}_{{uL}}=${0} and $C^{{33}}_{{uR}}=${0}')\n",
    "# plt.savefig('intrsec.png')\n",
    "# plt.show()"
   ]
  },
  {
   "cell_type": "markdown",
   "id": "d00d5b91-1ae3-4ea0-b975-aaa95a0e8ab7",
   "metadata": {},
   "source": [
    "## Calculations for the UP Quark"
   ]
  },
  {
   "cell_type": "code",
   "execution_count": 22,
   "id": "2df25c89-1f80-4dfd-907f-0969121a05d3",
   "metadata": {},
   "outputs": [
    {
     "ename": "KeyboardInterrupt",
     "evalue": "",
     "output_type": "error",
     "traceback": [
      "\u001b[0;31m---------------------------------------------------------------------------\u001b[0m",
      "\u001b[0;31mKeyboardInterrupt\u001b[0m                         Traceback (most recent call last)",
      "Cell \u001b[0;32mIn[22], line 25\u001b[0m\n\u001b[1;32m     23\u001b[0m Q_start \u001b[38;5;241m=\u001b[39m Q_bins[i]\n\u001b[1;32m     24\u001b[0m Q_end \u001b[38;5;241m=\u001b[39m Q_bins[i \u001b[38;5;241m+\u001b[39m \u001b[38;5;241m1\u001b[39m]\n\u001b[0;32m---> 25\u001b[0m integral, _ \u001b[38;5;241m=\u001b[39m quad(integrand , Q_start, Q_end, args\u001b[38;5;241m=\u001b[39m(CL, CR, p1, p2, \u001b[38;5;241m0\u001b[39m))\n\u001b[1;32m     26\u001b[0m integrated_values\u001b[38;5;241m.\u001b[39mappend(integral)\n",
      "File \u001b[0;32m~/miniconda3/lib/python3.12/site-packages/scipy/integrate/_quadpack_py.py:464\u001b[0m, in \u001b[0;36mquad\u001b[0;34m(func, a, b, args, full_output, epsabs, epsrel, limit, points, weight, wvar, wopts, maxp1, limlst, complex_func)\u001b[0m\n\u001b[1;32m    461\u001b[0m     \u001b[38;5;28;01mreturn\u001b[39;00m retval\n\u001b[1;32m    463\u001b[0m \u001b[38;5;28;01mif\u001b[39;00m weight \u001b[38;5;129;01mis\u001b[39;00m \u001b[38;5;28;01mNone\u001b[39;00m:\n\u001b[0;32m--> 464\u001b[0m     retval \u001b[38;5;241m=\u001b[39m _quad(func, a, b, args, full_output, epsabs, epsrel, limit,\n\u001b[1;32m    465\u001b[0m                    points)\n\u001b[1;32m    466\u001b[0m \u001b[38;5;28;01melse\u001b[39;00m:\n\u001b[1;32m    467\u001b[0m     \u001b[38;5;28;01mif\u001b[39;00m points \u001b[38;5;129;01mis\u001b[39;00m \u001b[38;5;129;01mnot\u001b[39;00m \u001b[38;5;28;01mNone\u001b[39;00m:\n",
      "File \u001b[0;32m~/miniconda3/lib/python3.12/site-packages/scipy/integrate/_quadpack_py.py:611\u001b[0m, in \u001b[0;36m_quad\u001b[0;34m(func, a, b, args, full_output, epsabs, epsrel, limit, points)\u001b[0m\n\u001b[1;32m    609\u001b[0m \u001b[38;5;28;01mif\u001b[39;00m points \u001b[38;5;129;01mis\u001b[39;00m \u001b[38;5;28;01mNone\u001b[39;00m:\n\u001b[1;32m    610\u001b[0m     \u001b[38;5;28;01mif\u001b[39;00m infbounds \u001b[38;5;241m==\u001b[39m \u001b[38;5;241m0\u001b[39m:\n\u001b[0;32m--> 611\u001b[0m         \u001b[38;5;28;01mreturn\u001b[39;00m _quadpack\u001b[38;5;241m.\u001b[39m_qagse(func,a,b,args,full_output,epsabs,epsrel,limit)\n\u001b[1;32m    612\u001b[0m     \u001b[38;5;28;01melse\u001b[39;00m:\n\u001b[1;32m    613\u001b[0m         \u001b[38;5;28;01mreturn\u001b[39;00m _quadpack\u001b[38;5;241m.\u001b[39m_qagie(func, bound, infbounds, args, full_output, \n\u001b[1;32m    614\u001b[0m                                 epsabs, epsrel, limit)\n",
      "Cell \u001b[0;32mIn[22], line 20\u001b[0m, in \u001b[0;36mintegrand\u001b[0;34m(Q, CL, CR, p1, p2, n)\u001b[0m\n\u001b[1;32m     19\u001b[0m \u001b[38;5;28;01mdef\u001b[39;00m \u001b[38;5;21mintegrand\u001b[39m(Q, CL, CR, p1, p2, n):\n\u001b[0;32m---> 20\u001b[0m     \u001b[38;5;28;01mreturn\u001b[39;00m d_sigma(Q\u001b[38;5;241m*\u001b[39m\u001b[38;5;241m*\u001b[39m\u001b[38;5;241m2\u001b[39m,CL, CR, p1, p2, \u001b[38;5;241m0\u001b[39m)[\u001b[38;5;241m0\u001b[39m]\n",
      "Cell \u001b[0;32mIn[16], line 8\u001b[0m, in \u001b[0;36md_sigma\u001b[0;34m(Q2, CL, CR, p1, p2, n)\u001b[0m\n\u001b[1;32m      5\u001b[0m d_sigmaR \u001b[38;5;241m=\u001b[39m \u001b[38;5;241m0\u001b[39m\n\u001b[1;32m      7\u001b[0m \u001b[38;5;28;01mfor\u001b[39;00m flavor, e_f, g_fR, g_fL \u001b[38;5;129;01min\u001b[39;00m quark_couplings:\n\u001b[0;32m----> 8\u001b[0m         integral1 \u001b[38;5;241m=\u001b[39m (\u001b[38;5;241m13e3\u001b[39m)\u001b[38;5;241m*\u001b[39m\u001b[38;5;241m*\u001b[39m\u001b[38;5;241m2\u001b[39m \u001b[38;5;241m*\u001b[39mintegrate_sigma_hat_prime(tau, CL, p1, p2, flavor, np\u001b[38;5;241m.\u001b[39msqrt(Q2), n)\n\u001b[1;32m      9\u001b[0m         integral2 \u001b[38;5;241m=\u001b[39m (\u001b[38;5;241m13e3\u001b[39m)\u001b[38;5;241m*\u001b[39m\u001b[38;5;241m*\u001b[39m\u001b[38;5;241m2\u001b[39m \u001b[38;5;241m*\u001b[39mintegrate_sigma_hat_prime(tau, CR, p1, p2, flavor, np\u001b[38;5;241m.\u001b[39msqrt(Q2), n)\n\u001b[1;32m     11\u001b[0m         d_sigmaL \u001b[38;5;241m+\u001b[39m\u001b[38;5;241m=\u001b[39m \u001b[38;5;241m4\u001b[39m \u001b[38;5;241m*\u001b[39m np\u001b[38;5;241m.\u001b[39mpi \u001b[38;5;241m*\u001b[39m alpha\u001b[38;5;241m*\u001b[39m\u001b[38;5;241m*\u001b[39m\u001b[38;5;241m2\u001b[39m \u001b[38;5;241m/\u001b[39m (\u001b[38;5;241m3\u001b[39m \u001b[38;5;241m*\u001b[39m Nc) \u001b[38;5;241m*\u001b[39m (\n\u001b[1;32m     12\u001b[0m                     term_1(Q2, e_f) \u001b[38;5;241m+\u001b[39m term_2(Q2, e_f, g_fL, p1, p2) \u001b[38;5;241m+\u001b[39m \n\u001b[1;32m     13\u001b[0m                     term_3(Q2, e_f, g_fL, p1, p2)\n\u001b[1;32m     14\u001b[0m                     ) \u001b[38;5;241m*\u001b[39m integral1\n",
      "Cell \u001b[0;32mIn[10], line 6\u001b[0m, in \u001b[0;36mintegrate_sigma_hat_prime\u001b[0;34m(tau, C, p1, p2, flavor, Q, n)\u001b[0m\n\u001b[1;32m      3\u001b[0m     tau_x \u001b[38;5;241m=\u001b[39m tau\u001b[38;5;241m/\u001b[39mx\n\u001b[1;32m      4\u001b[0m     \u001b[38;5;28;01mreturn\u001b[39;00m sigma_hat_prime(x, tau, C, p1, p2, flavor, Q, n) \u001b[38;5;241m*\u001b[39m tau_x\n\u001b[0;32m----> 6\u001b[0m result, error \u001b[38;5;241m=\u001b[39m quad(integrand, tau, \u001b[38;5;241m1\u001b[39m)\n\u001b[1;32m      7\u001b[0m \u001b[38;5;28;01mreturn\u001b[39;00m result\n",
      "File \u001b[0;32m~/miniconda3/lib/python3.12/site-packages/scipy/integrate/_quadpack_py.py:464\u001b[0m, in \u001b[0;36mquad\u001b[0;34m(func, a, b, args, full_output, epsabs, epsrel, limit, points, weight, wvar, wopts, maxp1, limlst, complex_func)\u001b[0m\n\u001b[1;32m    461\u001b[0m     \u001b[38;5;28;01mreturn\u001b[39;00m retval\n\u001b[1;32m    463\u001b[0m \u001b[38;5;28;01mif\u001b[39;00m weight \u001b[38;5;129;01mis\u001b[39;00m \u001b[38;5;28;01mNone\u001b[39;00m:\n\u001b[0;32m--> 464\u001b[0m     retval \u001b[38;5;241m=\u001b[39m _quad(func, a, b, args, full_output, epsabs, epsrel, limit,\n\u001b[1;32m    465\u001b[0m                    points)\n\u001b[1;32m    466\u001b[0m \u001b[38;5;28;01melse\u001b[39;00m:\n\u001b[1;32m    467\u001b[0m     \u001b[38;5;28;01mif\u001b[39;00m points \u001b[38;5;129;01mis\u001b[39;00m \u001b[38;5;129;01mnot\u001b[39;00m \u001b[38;5;28;01mNone\u001b[39;00m:\n",
      "File \u001b[0;32m~/miniconda3/lib/python3.12/site-packages/scipy/integrate/_quadpack_py.py:611\u001b[0m, in \u001b[0;36m_quad\u001b[0;34m(func, a, b, args, full_output, epsabs, epsrel, limit, points)\u001b[0m\n\u001b[1;32m    609\u001b[0m \u001b[38;5;28;01mif\u001b[39;00m points \u001b[38;5;129;01mis\u001b[39;00m \u001b[38;5;28;01mNone\u001b[39;00m:\n\u001b[1;32m    610\u001b[0m     \u001b[38;5;28;01mif\u001b[39;00m infbounds \u001b[38;5;241m==\u001b[39m \u001b[38;5;241m0\u001b[39m:\n\u001b[0;32m--> 611\u001b[0m         \u001b[38;5;28;01mreturn\u001b[39;00m _quadpack\u001b[38;5;241m.\u001b[39m_qagse(func,a,b,args,full_output,epsabs,epsrel,limit)\n\u001b[1;32m    612\u001b[0m     \u001b[38;5;28;01melse\u001b[39;00m:\n\u001b[1;32m    613\u001b[0m         \u001b[38;5;28;01mreturn\u001b[39;00m _quadpack\u001b[38;5;241m.\u001b[39m_qagie(func, bound, infbounds, args, full_output, \n\u001b[1;32m    614\u001b[0m                                 epsabs, epsrel, limit)\n",
      "Cell \u001b[0;32mIn[10], line 4\u001b[0m, in \u001b[0;36mintegrate_sigma_hat_prime.<locals>.integrand\u001b[0;34m(x)\u001b[0m\n\u001b[1;32m      2\u001b[0m \u001b[38;5;28;01mdef\u001b[39;00m \u001b[38;5;21mintegrand\u001b[39m(x):\n\u001b[1;32m      3\u001b[0m     tau_x \u001b[38;5;241m=\u001b[39m tau\u001b[38;5;241m/\u001b[39mx\n\u001b[0;32m----> 4\u001b[0m     \u001b[38;5;28;01mreturn\u001b[39;00m sigma_hat_prime(x, tau, C, p1, p2, flavor, Q, n) \u001b[38;5;241m*\u001b[39m tau_x\n",
      "Cell \u001b[0;32mIn[9], line 11\u001b[0m, in \u001b[0;36msigma_hat_prime\u001b[0;34m(x, tau_x, C, p1, p2, flavor, Q, n)\u001b[0m\n\u001b[1;32m      1\u001b[0m \u001b[38;5;28;01mdef\u001b[39;00m \u001b[38;5;21msigma_hat_prime\u001b[39m(x, tau_x, C, p1, p2, flavor, Q, n):\n\u001b[1;32m      2\u001b[0m     \n\u001b[1;32m      3\u001b[0m     \u001b[38;5;66;03m# Perform the contraction with c\u001b[39;00m\n\u001b[1;32m      5\u001b[0m     term1 \u001b[38;5;241m=\u001b[39m (n \u001b[38;5;241m+\u001b[39m (\u001b[38;5;241m2\u001b[39m \u001b[38;5;241m/\u001b[39m s) \u001b[38;5;241m*\u001b[39m (\u001b[38;5;241m1\u001b[39m \u001b[38;5;241m+\u001b[39m x \u001b[38;5;241m/\u001b[39m tau_x) \u001b[38;5;241m*\u001b[39m\n\u001b[1;32m      6\u001b[0m              (tn\u001b[38;5;241m.\u001b[39mdot(p1, tn\u001b[38;5;241m.\u001b[39mmv(C, p2)) \u001b[38;5;241m+\u001b[39m tn\u001b[38;5;241m.\u001b[39mdot(p2, tn\u001b[38;5;241m.\u001b[39mmv(C, p1)) \u001b[38;5;241m+\u001b[39m\n\u001b[1;32m      7\u001b[0m               tn\u001b[38;5;241m.\u001b[39mdot(p1, tn\u001b[38;5;241m.\u001b[39mmv(C, p1)) \u001b[38;5;241m+\u001b[39m tn\u001b[38;5;241m.\u001b[39mdot(p2, tn\u001b[38;5;241m.\u001b[39mmv(C, p2)))) \u001b[38;5;241m*\u001b[39m f_s(x, tau_x, flavor, Q)\n\u001b[1;32m     10\u001b[0m     term2 \u001b[38;5;241m=\u001b[39m (\u001b[38;5;241m2\u001b[39m \u001b[38;5;241m/\u001b[39m s) \u001b[38;5;241m*\u001b[39m(x \u001b[38;5;241m*\u001b[39m tn\u001b[38;5;241m.\u001b[39mdot(p1, tn\u001b[38;5;241m.\u001b[39mmv(C, p1)) \u001b[38;5;241m+\u001b[39m tau_x \u001b[38;5;241m*\u001b[39m tn\u001b[38;5;241m.\u001b[39mdot(p1, tn\u001b[38;5;241m.\u001b[39mmv(C, p2)) \u001b[38;5;241m+\u001b[39m\n\u001b[0;32m---> 11\u001b[0m              tau_x \u001b[38;5;241m*\u001b[39m tn\u001b[38;5;241m.\u001b[39mdot(p1, tn\u001b[38;5;241m.\u001b[39mmv(C, p2)) \u001b[38;5;241m+\u001b[39m x \u001b[38;5;241m*\u001b[39m tn\u001b[38;5;241m.\u001b[39mdot(p2, tn\u001b[38;5;241m.\u001b[39mmv(C, p2)))\u001b[38;5;241m*\u001b[39m f_prime_s(x, tau_x, flavor, Q)\n\u001b[1;32m     13\u001b[0m     \u001b[38;5;28;01mreturn\u001b[39;00m term1 \u001b[38;5;241m+\u001b[39m term2\n",
      "Cell \u001b[0;32mIn[8], line 10\u001b[0m, in \u001b[0;36mf_prime_s\u001b[0;34m(x, tau_x, flavor, Q)\u001b[0m\n\u001b[1;32m      8\u001b[0m \u001b[38;5;28;01mdef\u001b[39;00m \u001b[38;5;21mf_prime_s\u001b[39m(x, tau_x, flavor, Q):\n\u001b[1;32m      9\u001b[0m     f_f_tau_x_prime \u001b[38;5;241m=\u001b[39m num_derivative(\u001b[38;5;28;01mlambda\u001b[39;00m t: \u001b[38;5;241m1\u001b[39m\u001b[38;5;241m/\u001b[39mt \u001b[38;5;241m*\u001b[39mpdf\u001b[38;5;241m.\u001b[39mxfxQ(flavor, t, Q), tau_x)\n\u001b[0;32m---> 10\u001b[0m     f_fbar_tau_x_prime \u001b[38;5;241m=\u001b[39m num_derivative(\u001b[38;5;28;01mlambda\u001b[39;00m t:\u001b[38;5;241m1\u001b[39m\u001b[38;5;241m/\u001b[39mt \u001b[38;5;241m*\u001b[39mpdf\u001b[38;5;241m.\u001b[39mxfxQ(\u001b[38;5;241m-\u001b[39mflavor, t, Q), tau_x)\n\u001b[1;32m     12\u001b[0m     \u001b[38;5;28;01mreturn\u001b[39;00m (\u001b[38;5;241m1\u001b[39m\u001b[38;5;241m/\u001b[39mx \u001b[38;5;241m*\u001b[39m pdf\u001b[38;5;241m.\u001b[39mxfxQ(flavor, x, Q) \u001b[38;5;241m*\u001b[39mf_fbar_tau_x_prime \u001b[38;5;241m+\u001b[39m \\\n\u001b[1;32m     13\u001b[0m            \u001b[38;5;241m1\u001b[39m\u001b[38;5;241m/\u001b[39mx \u001b[38;5;241m*\u001b[39mf_f_tau_x_prime \u001b[38;5;241m*\u001b[39mpdf\u001b[38;5;241m.\u001b[39mxfxQ(\u001b[38;5;241m-\u001b[39mflavor, x, Q))\n",
      "Cell \u001b[0;32mIn[8], line 6\u001b[0m, in \u001b[0;36mnum_derivative\u001b[0;34m(func, x, h, *args)\u001b[0m\n\u001b[1;32m      5\u001b[0m \u001b[38;5;28;01mdef\u001b[39;00m \u001b[38;5;21mnum_derivative\u001b[39m(func, x, h\u001b[38;5;241m=\u001b[39m\u001b[38;5;241m1e-15\u001b[39m, \u001b[38;5;241m*\u001b[39margs):\n\u001b[0;32m----> 6\u001b[0m     \u001b[38;5;28;01mreturn\u001b[39;00m (func(x \u001b[38;5;241m+\u001b[39m h, \u001b[38;5;241m*\u001b[39margs) \u001b[38;5;241m-\u001b[39m func(x , \u001b[38;5;241m*\u001b[39margs)) \u001b[38;5;241m/\u001b[39m (h)\n",
      "Cell \u001b[0;32mIn[8], line 10\u001b[0m, in \u001b[0;36mf_prime_s.<locals>.<lambda>\u001b[0;34m(t)\u001b[0m\n\u001b[1;32m      8\u001b[0m \u001b[38;5;28;01mdef\u001b[39;00m \u001b[38;5;21mf_prime_s\u001b[39m(x, tau_x, flavor, Q):\n\u001b[1;32m      9\u001b[0m     f_f_tau_x_prime \u001b[38;5;241m=\u001b[39m num_derivative(\u001b[38;5;28;01mlambda\u001b[39;00m t: \u001b[38;5;241m1\u001b[39m\u001b[38;5;241m/\u001b[39mt \u001b[38;5;241m*\u001b[39mpdf\u001b[38;5;241m.\u001b[39mxfxQ(flavor, t, Q), tau_x)\n\u001b[0;32m---> 10\u001b[0m     f_fbar_tau_x_prime \u001b[38;5;241m=\u001b[39m num_derivative(\u001b[38;5;28;01mlambda\u001b[39;00m t:\u001b[38;5;241m1\u001b[39m\u001b[38;5;241m/\u001b[39mt \u001b[38;5;241m*\u001b[39mpdf\u001b[38;5;241m.\u001b[39mxfxQ(\u001b[38;5;241m-\u001b[39mflavor, t, Q), tau_x)\n\u001b[1;32m     12\u001b[0m     \u001b[38;5;28;01mreturn\u001b[39;00m (\u001b[38;5;241m1\u001b[39m\u001b[38;5;241m/\u001b[39mx \u001b[38;5;241m*\u001b[39m pdf\u001b[38;5;241m.\u001b[39mxfxQ(flavor, x, Q) \u001b[38;5;241m*\u001b[39mf_fbar_tau_x_prime \u001b[38;5;241m+\u001b[39m \\\n\u001b[1;32m     13\u001b[0m            \u001b[38;5;241m1\u001b[39m\u001b[38;5;241m/\u001b[39mx \u001b[38;5;241m*\u001b[39mf_f_tau_x_prime \u001b[38;5;241m*\u001b[39mpdf\u001b[38;5;241m.\u001b[39mxfxQ(\u001b[38;5;241m-\u001b[39mflavor, x, Q))\n",
      "\u001b[0;31mKeyboardInterrupt\u001b[0m: "
     ]
    }
   ],
   "source": [
    "# Integration and plotting\n",
    "Q_val = np.linspace(17.5, 90, 100)\n",
    "a = 17.5 # Start of the Q range\n",
    "b = 90  # End of the Q range\n",
    "nbins = 17  # Number of bins\n",
    "# Example momenta for protons\n",
    "p1 = 1 / np.sqrt(2) * tn.tensor([1,0, 0,1], dtype=tn.float32)\n",
    "\n",
    "p2 = 1 / np.sqrt(2) * tn.tensor([1,0, 0,-1], dtype=tn.float32)\n",
    "\n",
    "\n",
    "Q_bins = np.linspace(a, b, nbins + 1)\n",
    "integrated_values = []\n",
    "\n",
    "# Integrate d_sigma over each bin\n",
    "results = [d_sigma(Q**2, CL, CR, p1, p2, 0) for Q in Q_val]\n",
    "dsigma, dsigmaL, dsigmaR = zip(*results)\n",
    "\n",
    "def integrand(Q, CL, CR, p1, p2, n):\n",
    "    return d_sigma(Q**2,CL, CR, p1, p2, 0)[0]\n",
    "    \n",
    "for i in range(len(Q_bins) - 1):\n",
    "    Q_start = Q_bins[i]\n",
    "    Q_end = Q_bins[i + 1]\n",
    "    integral, _ = quad(integrand , Q_start, Q_end, args=(CL, CR, p1, p2, 0))\n",
    "    integrated_values.append(integral)"
   ]
  },
  {
   "cell_type": "markdown",
   "id": "71aa1736-b4f3-4c4a-a09a-f093f7cb0436",
   "metadata": {},
   "source": [
    "## Up quark cross section plot"
   ]
  },
  {
   "cell_type": "code",
   "execution_count": null,
   "id": "2a4c0bdb-eb2b-48dc-88c3-9dc93a8affde",
   "metadata": {},
   "outputs": [],
   "source": [
    "plt.figure(figsize=(20, 6))\n",
    "\n",
    "# Create the step plot\n",
    "plt.step(Q_bins, integrated_values + [integrated_values[-1]], where='post', color='r', linestyle='--')\n",
    "\n",
    "plt.xlabel('Q')\n",
    "plt.yscale('log')\n",
    "plt.ylabel('$\\\\sigma \\\\;(Pb)$')\n",
    "# plt.title(f'Integrated d_sigma over Q bins for $C^{{33}}_{{uL}}=${c_33L} and $C^{{33}}_{{uR}}=${c_33R}')\n",
    "plt.savefig('intrsec.png')\n",
    "plt.show()"
   ]
  },
  {
   "cell_type": "markdown",
   "id": "78e00677-c333-4bde-8923-6379efbfc9c1",
   "metadata": {},
   "source": [
    "## PLOTS"
   ]
  },
  {
   "cell_type": "markdown",
   "id": "68dc58e2-99ea-433f-a67e-aa225aea23b6",
   "metadata": {
    "jp-MarkdownHeadingCollapsed": true
   },
   "source": [
    "## Individual terms behaviour"
   ]
  },
  {
   "cell_type": "code",
   "execution_count": null,
   "id": "185443a1-5804-45d0-8c69-fa0807f21ded",
   "metadata": {},
   "outputs": [],
   "source": [
    "Q_val = np.linspace(17.5, 90, 100)\n",
    "\n",
    "terms = {f\"term{i}\": [] for i in range(1, 6)}\n",
    "sum1 = []\n",
    "sum2 = []\n",
    "\n",
    "# Define axs for subplot\n",
    "fig, axs = plt.subplots(1, 2, figsize=(20, 8))\n",
    "\n",
    "# \n",
    "for flavour, e_f, g_fR, g_fL in quark_couplings:\n",
    "    results = [d_sigma(Q**2, c_33L, c_33R, p1, p2, 0) for Q in Q_val]\n",
    "    dsigma, dsigmaL, dsigmaR = zip(*results)\n",
    "    \n",
    "    term1 = [term_1(Q**2, e_f) for Q in Q_val]\n",
    "    term2 = [term_2(Q**2, e_f, g_fL, p1, p2) for Q in Q_val]\n",
    "    term3 = [term_3(Q**2, e_f, g_fL, p1, p2) for Q in Q_val] \n",
    "    term4 = [term_2(Q**2, e_f, g_fR, p1, p2) for Q in Q_val]\n",
    "    term5 = [term_3(Q**2, e_f, g_fR, p1, p2) for Q in Q_val]\n",
    "    \n",
    "    \n",
    "    terms['term1'].append(term1)\n",
    "    terms['term2'].append(term2)\n",
    "    terms['term3'].append(term3)\n",
    "    terms['term4'].append(term4)\n",
    "    terms['term5'].append(term5)\n",
    "\n",
    "# Plot sum 1 and sum 2 in the first subplot\n",
    "axs[0].plot(Q_val, dsigmaL, linestyle='-', color='y', label='$d\\\\sigma L$')\n",
    "axs[0].plot(Q_val, dsigmaR, linestyle='-', color='black', label='$d\\\\sigma R$')\n",
    "axs[0].plot(Q_val, dsigma, linestyle='-', color='red', label='$d \\\\sigma$')\n",
    "\n",
    "axs[0].set_yscale('log')\n",
    "axs[0].set_title('$d\\\\sigma$')\n",
    "axs[0].set_xlabel('Q')\n",
    "axs[0].set_ylabel('Value')\n",
    "axs[0].legend()\n",
    "axs[0].grid(True)\n",
    "\n",
    "# Plot terms 1 to 5 in the second subplot\n",
    "axs[1].plot(Q_val, terms['term1'][0], linestyle='-', color='b', label='term 1')\n",
    "axs[1].plot(Q_val, terms['term2'][0], linestyle='-', color='g', label='term 2L')\n",
    "axs[1].plot(Q_val, terms['term3'][0], linestyle='-', color='m', label='term 3L')\n",
    "axs[1].plot(Q_val, terms['term4'][0], linestyle='-', color='y', label='term 2R')\n",
    "axs[1].plot(Q_val, terms['term5'][0], linestyle='-', color='r', label='term 3R')\n",
    "axs[1].set_yscale('log')\n",
    "axs[1].set_title('Terms 1 to 5')\n",
    "axs[1].set_xlabel('Q')\n",
    "axs[1].set_ylabel('Value')\n",
    "axs[1].legend()\n",
    "axs[1].grid(True)\n",
    "\n",
    "# Adjust layout to prevent overlap\n",
    "plt.tight_layout()\n",
    "\n",
    "# Show the plot\n",
    "plt.show()"
   ]
  },
  {
   "cell_type": "markdown",
   "id": "790c3f78-39b1-4545-a859-a174fc9124f1",
   "metadata": {
    "jp-MarkdownHeadingCollapsed": true
   },
   "source": [
    "## PDFs behaviour"
   ]
  },
  {
   "cell_type": "code",
   "execution_count": null,
   "id": "5097da5f-9e86-488a-ad4e-fdfa790156f1",
   "metadata": {},
   "outputs": [],
   "source": [
    "import numpy as np\n",
    "import matplotlib.pyplot as plt\n",
    "\n",
    "# Assuming you have defined your functions f_s(x, tau_x, flavor, Qe) and f_prime_s(x, tau_x, flavor, Qe)\n",
    "\n",
    "x_val1 = np.logspace(-3, np.log10(0.9), 100)\n",
    "Qe = 60\n",
    "\n",
    "tau = Qe**2 / s\n",
    "tau_x_val1 = tau / x_val1\n",
    "\n",
    "x = 1e-3\n",
    "\n",
    "# Calculate fs and fprime_s values\n",
    "\n",
    "fs_valx = [f_s(x, tau / x, flavor, Qe) for x in x_val1]\n",
    "fprime_s_valx = [f_prime_s(x, tau / x, flavor, Qe) for x in x_val1]\n",
    "\n",
    "fs_val_taux = [f_s(x, tau_x, flavor, Qe) for tau_x in tau_x_val1]\n",
    "fprime_s_val_taux = [f_prime_s(x, tau_x, flavor, Qe) for tau_x in tau_x_val1]\n",
    "\n",
    "# PDF Plotting\n",
    "\n",
    "fig, axs = plt.subplots(2, 2, figsize=(20, 8))\n",
    "axs = axs.flatten()  # Flatten the array of axes\n",
    "\n",
    "axs[0].plot(x_val1, fs_valx, label='$f_s$')\n",
    "\n",
    "axs[0].set_yscale('linear')\n",
    "axs[0].set_title(f'Plot of $f_s(x)$ vs $x$ at $Q = {Qe}$ GeV')\n",
    "axs[0].set_xlabel('$x$')\n",
    "axs[0].set_ylabel('')\n",
    "axs[0].legend()\n",
    "axs[0].grid(True)\n",
    "\n",
    "axs[1].plot(tau_x_val1, fs_val_taux, label='$f_s$')\n",
    "\n",
    "axs[1].set_xscale('log')\n",
    "axs[1].set_yscale('linear')\n",
    "axs[1].set_title(f'Plot of $f_s(\\\\tau / x)$ vs $\\\\tau / x$ at $Q = {Qe}$ GeV')\n",
    "axs[1].set_xlabel('$\\\\tau / x$')\n",
    "axs[1].set_ylabel('')\n",
    "axs[1].legend()\n",
    "axs[1].grid(True)\n",
    "\n",
    "axs[2].plot(x_val1, fprime_s_valx, label='$f\\'_s$')\n",
    "\n",
    "axs[2].set_yscale('linear')\n",
    "axs[2].set_title(f'Plot of $f\\'_s(x)$ vs $x$ at $Q = {Qe}$ GeV')\n",
    "axs[2].set_xlabel('$x$')\n",
    "axs[2].set_ylabel('')\n",
    "axs[2].legend()\n",
    "axs[2].grid(True)\n",
    "\n",
    "axs[3].plot(tau_x_val1, fprime_s_val_taux, label='$f\\'_s$')\n",
    "\n",
    "axs[3].set_xscale('log')\n",
    "axs[3].set_yscale('linear')\n",
    "axs[3].set_title(f'Plot of $f\\'_s(\\\\tau / x)$ vs $\\\\tau / x$ at $Q = {Qe}$ GeV')\n",
    "axs[3].set_xlabel('$\\\\tau / x$')\n",
    "axs[3].set_ylabel('')\n",
    "axs[3].legend()\n",
    "axs[3].grid(True)\n",
    "\n",
    "fig.suptitle('Flavour-symmetric PDF products')\n",
    "\n",
    "plt.tight_layout()\n",
    "\n",
    "plt.savefig('pdf.png')\n",
    "plt.show()\n"
   ]
  },
  {
   "cell_type": "code",
   "execution_count": null,
   "id": "fcd7a2a8-71f5-43e5-827c-3e51bbafb880",
   "metadata": {},
   "outputs": [],
   "source": [
    "x_val = np.logspace(-3, np.log10(0.9), 100)\n",
    "Qp = 60\n",
    "tau = Qp**2 / s\n",
    "\n",
    "tau_x_val = tau /x_val\n",
    "\n",
    "# Define axs for subplot\n",
    "fig, axs = plt.subplots(1, 3, figsize=(24, 8))\n",
    "\n",
    "# Calculate terms and sums\n",
    "for quark in quark_couplings:\n",
    "    flavor = quark[0]\n",
    "    pdf_val = [pdf.xfxQ(flavor, x, Qp) for x in x_val]\n",
    "    pdf_val_tau_x = [pdf.xfxQ(-flavor, tau_x, Qp) for tau_x in tau_x_val]\n",
    "    f_f_tau_x_prime = [num_derivative(lambda t: pdf.xfxQ(flavor, t, Qp), tau_x) for tau_x in tau_x_val]    \n",
    "# Plot \n",
    "axs[0].plot(x_val, pdf_val, linestyle='-', color='indigo', label='$f(x)$')\n",
    "\n",
    "\n",
    "axs[0].set_xscale('log')\n",
    "axs[0].set_title(f'PDF at Q = {Qp} GeV')\n",
    "axs[0].set_xlabel('$x$')\n",
    "axs[0].set_ylabel('Value')\n",
    "axs[0].legend()\n",
    "axs[0].grid(True)\n",
    "\n",
    "# Plot\n",
    "axs[1].plot(tau_x_val, pdf_val_tau_x, linestyle='-', color='indigo', label='$f(\\\\tau/x)$')\n",
    "axs[1].set_xscale('log')\n",
    "axs[1].set_title(f'PDF at Q = {Qp} GeV')\n",
    "axs[1].set_xlabel('${\\\\tau} /x$')\n",
    "axs[1].set_ylabel('Value')\n",
    "axs[1].legend()\n",
    "axs[1].grid(True)\n",
    "\n",
    "# Plot \n",
    "axs[2].plot(tau_x_val, f_f_tau_x_prime, linestyle='-', color='indigo', label='$f\\'(\\\\tau /x)$')\n",
    "axs[2].set_xscale('log')\n",
    "axs[2].set_title(f'PDF derivative at Q = {Qp} GeV')\n",
    "axs[2].set_xlabel('$\\\\tau /x$')\n",
    "axs[2].set_ylabel('Value')\n",
    "axs[2].legend()\n",
    "axs[2].grid(True)\n",
    "\n",
    "# Adjust layout to prevent overlap\n",
    "plt.tight_layout()\n",
    "\n",
    "# Show the plot\n",
    "plt.show()"
   ]
  },
  {
   "cell_type": "code",
   "execution_count": null,
   "id": "0fb94708-047a-4ff9-9c6c-3cde912cfed3",
   "metadata": {},
   "outputs": [],
   "source": []
  },
  {
   "cell_type": "code",
   "execution_count": null,
   "id": "1cf55f43-fb0e-44b2-bbe6-9c21a14f16c5",
   "metadata": {},
   "outputs": [],
   "source": [
    "import tn\n",
    "\n",
    "# Example tensors\n",
    "C = tn.tensor([[1, 2], [3, 4]], dtype=tn.float32)\n",
    "p = tn.tensor([5, 0], dtype=tn.float32)\n",
    "\n",
    "# Tensor contraction\n",
    "result = tn.dot(C, p)\n",
    "\n",
    "print(result)\n"
   ]
  },
  {
   "cell_type": "code",
   "execution_count": null,
   "id": "61367127-4b44-404b-8d91-3d1c28fb1080",
   "metadata": {},
   "outputs": [],
   "source": [
    "?tn.dot"
   ]
  },
  {
   "cell_type": "code",
   "execution_count": null,
   "id": "30067063-cc5a-49b6-904e-6b10415f4475",
   "metadata": {},
   "outputs": [],
   "source": [
    "print(tn.dot(tn.tensor([0, 3]), tn.tensor([0, 1])))"
   ]
  },
  {
   "cell_type": "code",
   "execution_count": null,
   "id": "08859438-79a6-4d7d-a45a-6cd7a3a83907",
   "metadata": {},
   "outputs": [],
   "source": [
    "import tn\n",
    "\n",
    "# Example tensors\n",
    "C = tn.tensor([\n",
    "    [0, 0, 0, 0],\n",
    "    [0, 0, 0, 0],\n",
    "    [0, 1, 0, 0],\n",
    "    [0, 0, 0, 1]\n",
    "], dtype=tn.float32)\n",
    "\n",
    "p1 = np.sqrt(2)*tn.tensor([1, ,3,1], dtype=tn.float32)\n",
    "p2 = tn.tensor([1,2,1,-1], dtype=tn.float32)\n",
    "\n",
    "# Tensor contraction: p1_mu * C^{mu nu} * p2_nu\n",
    "result = tn.dot(p1, tn.mv(C, p2))\n",
    "\n",
    "print(result)\n"
   ]
  },
  {
   "cell_type": "markdown",
   "id": "1d6f2021-b6c2-4268-8492-925edf3bf46b",
   "metadata": {},
   "source": [
    "## Rotation Matrices"
   ]
  },
  {
   "cell_type": "code",
   "execution_count": null,
   "id": "f7d9e392-974e-40be-8540-18e00b06bb03",
   "metadata": {},
   "outputs": [],
   "source": [
    "alpha = 0.705\n",
    "R_x = tn.tensor([[1,0,0,0],\n",
    "                 [0,1,0,0],\n",
    "                 [0,0,np.cos(alpha),-np.sin(alpha)],\n",
    "                 [0,0,np.sin(alpha), np.cos(alpha)]],\n",
    "                dtype=tn.float32)"
   ]
  },
  {
   "cell_type": "code",
   "execution_count": null,
   "id": "a7c86b69-77fc-429c-a34e-47203a78c5db",
   "metadata": {},
   "outputs": [],
   "source": [
    "print(R_x)"
   ]
  },
  {
   "cell_type": "code",
   "execution_count": null,
   "id": "fb7b721e-9e45-47ce-81be-f68dbef69728",
   "metadata": {},
   "outputs": [],
   "source": []
  }
 ],
 "metadata": {
  "kernelspec": {
   "display_name": "Python 3 (ipykernel)",
   "language": "python",
   "name": "python3"
  },
  "language_info": {
   "codemirror_mode": {
    "name": "ipython",
    "version": 3
   },
   "file_extension": ".py",
   "mimetype": "text/x-python",
   "name": "python",
   "nbconvert_exporter": "python",
   "pygments_lexer": "ipython3",
   "version": "3.12.2"
  }
 },
 "nbformat": 4,
 "nbformat_minor": 5
}
